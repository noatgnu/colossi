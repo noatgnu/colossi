{
 "cells": [
  {
   "cell_type": "code",
   "execution_count": 1,
   "metadata": {},
   "outputs": [
    {
     "name": "stdout",
     "output_type": "stream",
     "text": [
      "stemcellhack\n",
      "0.25.0 4.0.0\n"
     ]
    }
   ],
   "source": [
    "import plotly, pandas, os\n",
    "# check environment\n",
    "print(os.environ['CONDA_DEFAULT_ENV'])\n",
    "print(pandas.__version__, plotly.__version__)"
   ]
  },
  {
   "cell_type": "code",
   "execution_count": 212,
   "metadata": {},
   "outputs": [
    {
     "data": {
      "text/html": [
       "<div>\n",
       "<style scoped>\n",
       "    .dataframe tbody tr th:only-of-type {\n",
       "        vertical-align: middle;\n",
       "    }\n",
       "\n",
       "    .dataframe tbody tr th {\n",
       "        vertical-align: top;\n",
       "    }\n",
       "\n",
       "    .dataframe thead th {\n",
       "        text-align: right;\n",
       "    }\n",
       "</style>\n",
       "<table border=\"1\" class=\"dataframe\">\n",
       "  <thead>\n",
       "    <tr style=\"text-align: right;\">\n",
       "      <th></th>\n",
       "      <th>1674120023_B;1000</th>\n",
       "      <th>1674120023_F;1000</th>\n",
       "      <th>1674120053_B;1000</th>\n",
       "      <th>1674120053_C;1000</th>\n",
       "      <th>1674120078_A;1000</th>\n",
       "      <th>1674120078_F;1000</th>\n",
       "      <th>1674120079_D;1000</th>\n",
       "      <th>1674120079_E;1000</th>\n",
       "      <th>1674120084_B;1000</th>\n",
       "      <th>1674120084_D;1000</th>\n",
       "      <th>...</th>\n",
       "      <th>L;7002</th>\n",
       "      <th>M;7002</th>\n",
       "      <th>N;7002</th>\n",
       "      <th>O;7002</th>\n",
       "      <th>P;7002</th>\n",
       "      <th>Q;7002</th>\n",
       "      <th>R;7002</th>\n",
       "      <th>S;7002</th>\n",
       "      <th>T;7002</th>\n",
       "      <th>U;7002</th>\n",
       "    </tr>\n",
       "  </thead>\n",
       "  <tbody>\n",
       "    <tr>\n",
       "      <th>ENSG00000000003</th>\n",
       "      <td>0.023640</td>\n",
       "      <td>0.090933</td>\n",
       "      <td>0.114154</td>\n",
       "      <td>0.122709</td>\n",
       "      <td>0.094218</td>\n",
       "      <td>0.066109</td>\n",
       "      <td>0.010350</td>\n",
       "      <td>0.013863</td>\n",
       "      <td>0.073289</td>\n",
       "      <td>0.066835</td>\n",
       "      <td>...</td>\n",
       "      <td>0.307822</td>\n",
       "      <td>0.152536</td>\n",
       "      <td>0.212954</td>\n",
       "      <td>0.107241</td>\n",
       "      <td>0.339368</td>\n",
       "      <td>0.338222</td>\n",
       "      <td>0.368622</td>\n",
       "      <td>0.267415</td>\n",
       "      <td>0.258097</td>\n",
       "      <td>0.039108</td>\n",
       "    </tr>\n",
       "    <tr>\n",
       "      <th>ENSG00000000005</th>\n",
       "      <td>0.391079</td>\n",
       "      <td>0.249771</td>\n",
       "      <td>0.270929</td>\n",
       "      <td>0.233692</td>\n",
       "      <td>0.305683</td>\n",
       "      <td>0.296861</td>\n",
       "      <td>0.168996</td>\n",
       "      <td>0.316109</td>\n",
       "      <td>0.336350</td>\n",
       "      <td>0.330698</td>\n",
       "      <td>...</td>\n",
       "      <td>0.106783</td>\n",
       "      <td>0.119768</td>\n",
       "      <td>0.067369</td>\n",
       "      <td>0.135121</td>\n",
       "      <td>0.144363</td>\n",
       "      <td>0.125038</td>\n",
       "      <td>0.134586</td>\n",
       "      <td>0.130614</td>\n",
       "      <td>0.141002</td>\n",
       "      <td>0.140009</td>\n",
       "    </tr>\n",
       "    <tr>\n",
       "      <th>ENSG00000000419</th>\n",
       "      <td>0.890315</td>\n",
       "      <td>0.862511</td>\n",
       "      <td>0.901008</td>\n",
       "      <td>0.920639</td>\n",
       "      <td>0.901543</td>\n",
       "      <td>0.880690</td>\n",
       "      <td>0.880690</td>\n",
       "      <td>0.911778</td>\n",
       "      <td>0.912618</td>\n",
       "      <td>0.859762</td>\n",
       "      <td>...</td>\n",
       "      <td>0.932860</td>\n",
       "      <td>0.953483</td>\n",
       "      <td>0.938130</td>\n",
       "      <td>0.937825</td>\n",
       "      <td>0.959212</td>\n",
       "      <td>0.949511</td>\n",
       "      <td>0.947984</td>\n",
       "      <td>0.960281</td>\n",
       "      <td>0.943782</td>\n",
       "      <td>0.950351</td>\n",
       "    </tr>\n",
       "    <tr>\n",
       "      <th>ENSG00000000938</th>\n",
       "      <td>0.991292</td>\n",
       "      <td>0.993737</td>\n",
       "      <td>0.993355</td>\n",
       "      <td>0.992285</td>\n",
       "      <td>0.993126</td>\n",
       "      <td>0.993737</td>\n",
       "      <td>0.994119</td>\n",
       "      <td>0.992209</td>\n",
       "      <td>0.991674</td>\n",
       "      <td>0.994348</td>\n",
       "      <td>...</td>\n",
       "      <td>0.589902</td>\n",
       "      <td>0.976551</td>\n",
       "      <td>0.987091</td>\n",
       "      <td>0.987015</td>\n",
       "      <td>0.937748</td>\n",
       "      <td>0.938894</td>\n",
       "      <td>0.957149</td>\n",
       "      <td>0.991903</td>\n",
       "      <td>0.991980</td>\n",
       "      <td>0.991369</td>\n",
       "    </tr>\n",
       "    <tr>\n",
       "      <th>ENSG00000000971</th>\n",
       "      <td>0.641537</td>\n",
       "      <td>0.574473</td>\n",
       "      <td>0.585625</td>\n",
       "      <td>0.671746</td>\n",
       "      <td>0.620035</td>\n",
       "      <td>0.595134</td>\n",
       "      <td>0.561564</td>\n",
       "      <td>0.628246</td>\n",
       "      <td>0.627330</td>\n",
       "      <td>0.573060</td>\n",
       "      <td>...</td>\n",
       "      <td>0.099297</td>\n",
       "      <td>0.254277</td>\n",
       "      <td>0.137565</td>\n",
       "      <td>0.220975</td>\n",
       "      <td>0.104644</td>\n",
       "      <td>0.218607</td>\n",
       "      <td>0.244424</td>\n",
       "      <td>0.200122</td>\n",
       "      <td>0.255194</td>\n",
       "      <td>0.220593</td>\n",
       "    </tr>\n",
       "  </tbody>\n",
       "</table>\n",
       "<p>5 rows × 901 columns</p>\n",
       "</div>"
      ],
      "text/plain": [
       "                 1674120023_B;1000  1674120023_F;1000  1674120053_B;1000  \\\n",
       "ENSG00000000003           0.023640           0.090933           0.114154   \n",
       "ENSG00000000005           0.391079           0.249771           0.270929   \n",
       "ENSG00000000419           0.890315           0.862511           0.901008   \n",
       "ENSG00000000938           0.991292           0.993737           0.993355   \n",
       "ENSG00000000971           0.641537           0.574473           0.585625   \n",
       "\n",
       "                 1674120053_C;1000  1674120078_A;1000  1674120078_F;1000  \\\n",
       "ENSG00000000003           0.122709           0.094218           0.066109   \n",
       "ENSG00000000005           0.233692           0.305683           0.296861   \n",
       "ENSG00000000419           0.920639           0.901543           0.880690   \n",
       "ENSG00000000938           0.992285           0.993126           0.993737   \n",
       "ENSG00000000971           0.671746           0.620035           0.595134   \n",
       "\n",
       "                 1674120079_D;1000  1674120079_E;1000  1674120084_B;1000  \\\n",
       "ENSG00000000003           0.010350           0.013863           0.073289   \n",
       "ENSG00000000005           0.168996           0.316109           0.336350   \n",
       "ENSG00000000419           0.880690           0.911778           0.912618   \n",
       "ENSG00000000938           0.994119           0.992209           0.991674   \n",
       "ENSG00000000971           0.561564           0.628246           0.627330   \n",
       "\n",
       "                 1674120084_D;1000  ...    L;7002    M;7002    N;7002  \\\n",
       "ENSG00000000003           0.066835  ...  0.307822  0.152536  0.212954   \n",
       "ENSG00000000005           0.330698  ...  0.106783  0.119768  0.067369   \n",
       "ENSG00000000419           0.859762  ...  0.932860  0.953483  0.938130   \n",
       "ENSG00000000938           0.994348  ...  0.589902  0.976551  0.987091   \n",
       "ENSG00000000971           0.573060  ...  0.099297  0.254277  0.137565   \n",
       "\n",
       "                   O;7002    P;7002    Q;7002    R;7002    S;7002    T;7002  \\\n",
       "ENSG00000000003  0.107241  0.339368  0.338222  0.368622  0.267415  0.258097   \n",
       "ENSG00000000005  0.135121  0.144363  0.125038  0.134586  0.130614  0.141002   \n",
       "ENSG00000000419  0.937825  0.959212  0.949511  0.947984  0.960281  0.943782   \n",
       "ENSG00000000938  0.987015  0.937748  0.938894  0.957149  0.991903  0.991980   \n",
       "ENSG00000000971  0.220975  0.104644  0.218607  0.244424  0.200122  0.255194   \n",
       "\n",
       "                   U;7002  \n",
       "ENSG00000000003  0.039108  \n",
       "ENSG00000000005  0.140009  \n",
       "ENSG00000000419  0.950351  \n",
       "ENSG00000000938  0.991369  \n",
       "ENSG00000000971  0.220593  \n",
       "\n",
       "[5 rows x 901 columns]"
      ]
     },
     "execution_count": 212,
     "metadata": {},
     "output_type": "execute_result"
    }
   ],
   "source": [
    "# read into data frame\n",
    "df = pandas.read_csv(\"imac_atlas_expression_v7.1.tsv\", sep='\\t', index_col=0)\n",
    "df.head()"
   ]
  },
  {
   "cell_type": "code",
   "execution_count": 213,
   "metadata": {},
   "outputs": [
    {
     "data": {
      "application/vnd.plotly.v1+json": {
       "config": {
        "plotlyServerURL": "https://plot.ly"
       },
       "data": [
        {
         "hoverlabel": {
          "namelength": 0
         },
         "hovertemplate": "x=%{x}<br>y=%{y}<br>z=%{z}",
         "legendgroup": "",
         "marker": {
          "color": "#636efa",
          "symbol": "circle"
         },
         "mode": "markers",
         "name": "",
         "scene": "scene",
         "showlegend": false,
         "type": "scatter3d",
         "x": [
          1,
          2,
          3,
          5,
          4,
          4,
          9,
          6,
          2,
          7,
          8,
          6,
          9
         ],
         "y": [
          2,
          3,
          5,
          7,
          6,
          9,
          3,
          8,
          5,
          8,
          5,
          2,
          10
         ],
         "z": [
          4,
          2,
          3,
          3,
          1,
          9,
          8,
          8,
          6,
          0,
          3,
          1,
          3
         ]
        }
       ],
       "layout": {
        "height": 600,
        "legend": {
         "tracegroupgap": 0
        },
        "margin": {
         "t": 60
        },
        "scene": {
         "domain": {
          "x": [
           0,
           0.98
          ],
          "y": [
           0,
           1
          ]
         },
         "xaxis": {
          "title": {
           "text": "x"
          }
         },
         "yaxis": {
          "title": {
           "text": "y"
          }
         },
         "zaxis": {
          "title": {
           "text": "z"
          }
         }
        },
        "template": {
         "data": {
          "bar": [
           {
            "error_x": {
             "color": "#2a3f5f"
            },
            "error_y": {
             "color": "#2a3f5f"
            },
            "marker": {
             "line": {
              "color": "#E5ECF6",
              "width": 0.5
             }
            },
            "type": "bar"
           }
          ],
          "barpolar": [
           {
            "marker": {
             "line": {
              "color": "#E5ECF6",
              "width": 0.5
             }
            },
            "type": "barpolar"
           }
          ],
          "carpet": [
           {
            "aaxis": {
             "endlinecolor": "#2a3f5f",
             "gridcolor": "white",
             "linecolor": "white",
             "minorgridcolor": "white",
             "startlinecolor": "#2a3f5f"
            },
            "baxis": {
             "endlinecolor": "#2a3f5f",
             "gridcolor": "white",
             "linecolor": "white",
             "minorgridcolor": "white",
             "startlinecolor": "#2a3f5f"
            },
            "type": "carpet"
           }
          ],
          "choropleth": [
           {
            "colorbar": {
             "outlinewidth": 0,
             "ticks": ""
            },
            "type": "choropleth"
           }
          ],
          "contour": [
           {
            "colorbar": {
             "outlinewidth": 0,
             "ticks": ""
            },
            "colorscale": [
             [
              0,
              "#0d0887"
             ],
             [
              0.1111111111111111,
              "#46039f"
             ],
             [
              0.2222222222222222,
              "#7201a8"
             ],
             [
              0.3333333333333333,
              "#9c179e"
             ],
             [
              0.4444444444444444,
              "#bd3786"
             ],
             [
              0.5555555555555556,
              "#d8576b"
             ],
             [
              0.6666666666666666,
              "#ed7953"
             ],
             [
              0.7777777777777778,
              "#fb9f3a"
             ],
             [
              0.8888888888888888,
              "#fdca26"
             ],
             [
              1,
              "#f0f921"
             ]
            ],
            "type": "contour"
           }
          ],
          "contourcarpet": [
           {
            "colorbar": {
             "outlinewidth": 0,
             "ticks": ""
            },
            "type": "contourcarpet"
           }
          ],
          "heatmap": [
           {
            "colorbar": {
             "outlinewidth": 0,
             "ticks": ""
            },
            "colorscale": [
             [
              0,
              "#0d0887"
             ],
             [
              0.1111111111111111,
              "#46039f"
             ],
             [
              0.2222222222222222,
              "#7201a8"
             ],
             [
              0.3333333333333333,
              "#9c179e"
             ],
             [
              0.4444444444444444,
              "#bd3786"
             ],
             [
              0.5555555555555556,
              "#d8576b"
             ],
             [
              0.6666666666666666,
              "#ed7953"
             ],
             [
              0.7777777777777778,
              "#fb9f3a"
             ],
             [
              0.8888888888888888,
              "#fdca26"
             ],
             [
              1,
              "#f0f921"
             ]
            ],
            "type": "heatmap"
           }
          ],
          "heatmapgl": [
           {
            "colorbar": {
             "outlinewidth": 0,
             "ticks": ""
            },
            "colorscale": [
             [
              0,
              "#0d0887"
             ],
             [
              0.1111111111111111,
              "#46039f"
             ],
             [
              0.2222222222222222,
              "#7201a8"
             ],
             [
              0.3333333333333333,
              "#9c179e"
             ],
             [
              0.4444444444444444,
              "#bd3786"
             ],
             [
              0.5555555555555556,
              "#d8576b"
             ],
             [
              0.6666666666666666,
              "#ed7953"
             ],
             [
              0.7777777777777778,
              "#fb9f3a"
             ],
             [
              0.8888888888888888,
              "#fdca26"
             ],
             [
              1,
              "#f0f921"
             ]
            ],
            "type": "heatmapgl"
           }
          ],
          "histogram": [
           {
            "marker": {
             "colorbar": {
              "outlinewidth": 0,
              "ticks": ""
             }
            },
            "type": "histogram"
           }
          ],
          "histogram2d": [
           {
            "colorbar": {
             "outlinewidth": 0,
             "ticks": ""
            },
            "colorscale": [
             [
              0,
              "#0d0887"
             ],
             [
              0.1111111111111111,
              "#46039f"
             ],
             [
              0.2222222222222222,
              "#7201a8"
             ],
             [
              0.3333333333333333,
              "#9c179e"
             ],
             [
              0.4444444444444444,
              "#bd3786"
             ],
             [
              0.5555555555555556,
              "#d8576b"
             ],
             [
              0.6666666666666666,
              "#ed7953"
             ],
             [
              0.7777777777777778,
              "#fb9f3a"
             ],
             [
              0.8888888888888888,
              "#fdca26"
             ],
             [
              1,
              "#f0f921"
             ]
            ],
            "type": "histogram2d"
           }
          ],
          "histogram2dcontour": [
           {
            "colorbar": {
             "outlinewidth": 0,
             "ticks": ""
            },
            "colorscale": [
             [
              0,
              "#0d0887"
             ],
             [
              0.1111111111111111,
              "#46039f"
             ],
             [
              0.2222222222222222,
              "#7201a8"
             ],
             [
              0.3333333333333333,
              "#9c179e"
             ],
             [
              0.4444444444444444,
              "#bd3786"
             ],
             [
              0.5555555555555556,
              "#d8576b"
             ],
             [
              0.6666666666666666,
              "#ed7953"
             ],
             [
              0.7777777777777778,
              "#fb9f3a"
             ],
             [
              0.8888888888888888,
              "#fdca26"
             ],
             [
              1,
              "#f0f921"
             ]
            ],
            "type": "histogram2dcontour"
           }
          ],
          "mesh3d": [
           {
            "colorbar": {
             "outlinewidth": 0,
             "ticks": ""
            },
            "type": "mesh3d"
           }
          ],
          "parcoords": [
           {
            "line": {
             "colorbar": {
              "outlinewidth": 0,
              "ticks": ""
             }
            },
            "type": "parcoords"
           }
          ],
          "scatter": [
           {
            "marker": {
             "colorbar": {
              "outlinewidth": 0,
              "ticks": ""
             }
            },
            "type": "scatter"
           }
          ],
          "scatter3d": [
           {
            "line": {
             "colorbar": {
              "outlinewidth": 0,
              "ticks": ""
             }
            },
            "marker": {
             "colorbar": {
              "outlinewidth": 0,
              "ticks": ""
             }
            },
            "type": "scatter3d"
           }
          ],
          "scattercarpet": [
           {
            "marker": {
             "colorbar": {
              "outlinewidth": 0,
              "ticks": ""
             }
            },
            "type": "scattercarpet"
           }
          ],
          "scattergeo": [
           {
            "marker": {
             "colorbar": {
              "outlinewidth": 0,
              "ticks": ""
             }
            },
            "type": "scattergeo"
           }
          ],
          "scattergl": [
           {
            "marker": {
             "colorbar": {
              "outlinewidth": 0,
              "ticks": ""
             }
            },
            "type": "scattergl"
           }
          ],
          "scattermapbox": [
           {
            "marker": {
             "colorbar": {
              "outlinewidth": 0,
              "ticks": ""
             }
            },
            "type": "scattermapbox"
           }
          ],
          "scatterpolar": [
           {
            "marker": {
             "colorbar": {
              "outlinewidth": 0,
              "ticks": ""
             }
            },
            "type": "scatterpolar"
           }
          ],
          "scatterpolargl": [
           {
            "marker": {
             "colorbar": {
              "outlinewidth": 0,
              "ticks": ""
             }
            },
            "type": "scatterpolargl"
           }
          ],
          "scatterternary": [
           {
            "marker": {
             "colorbar": {
              "outlinewidth": 0,
              "ticks": ""
             }
            },
            "type": "scatterternary"
           }
          ],
          "surface": [
           {
            "colorbar": {
             "outlinewidth": 0,
             "ticks": ""
            },
            "colorscale": [
             [
              0,
              "#0d0887"
             ],
             [
              0.1111111111111111,
              "#46039f"
             ],
             [
              0.2222222222222222,
              "#7201a8"
             ],
             [
              0.3333333333333333,
              "#9c179e"
             ],
             [
              0.4444444444444444,
              "#bd3786"
             ],
             [
              0.5555555555555556,
              "#d8576b"
             ],
             [
              0.6666666666666666,
              "#ed7953"
             ],
             [
              0.7777777777777778,
              "#fb9f3a"
             ],
             [
              0.8888888888888888,
              "#fdca26"
             ],
             [
              1,
              "#f0f921"
             ]
            ],
            "type": "surface"
           }
          ],
          "table": [
           {
            "cells": {
             "fill": {
              "color": "#EBF0F8"
             },
             "line": {
              "color": "white"
             }
            },
            "header": {
             "fill": {
              "color": "#C8D4E3"
             },
             "line": {
              "color": "white"
             }
            },
            "type": "table"
           }
          ]
         },
         "layout": {
          "annotationdefaults": {
           "arrowcolor": "#2a3f5f",
           "arrowhead": 0,
           "arrowwidth": 1
          },
          "colorscale": {
           "diverging": [
            [
             0,
             "#8e0152"
            ],
            [
             0.1,
             "#c51b7d"
            ],
            [
             0.2,
             "#de77ae"
            ],
            [
             0.3,
             "#f1b6da"
            ],
            [
             0.4,
             "#fde0ef"
            ],
            [
             0.5,
             "#f7f7f7"
            ],
            [
             0.6,
             "#e6f5d0"
            ],
            [
             0.7,
             "#b8e186"
            ],
            [
             0.8,
             "#7fbc41"
            ],
            [
             0.9,
             "#4d9221"
            ],
            [
             1,
             "#276419"
            ]
           ],
           "sequential": [
            [
             0,
             "#0d0887"
            ],
            [
             0.1111111111111111,
             "#46039f"
            ],
            [
             0.2222222222222222,
             "#7201a8"
            ],
            [
             0.3333333333333333,
             "#9c179e"
            ],
            [
             0.4444444444444444,
             "#bd3786"
            ],
            [
             0.5555555555555556,
             "#d8576b"
            ],
            [
             0.6666666666666666,
             "#ed7953"
            ],
            [
             0.7777777777777778,
             "#fb9f3a"
            ],
            [
             0.8888888888888888,
             "#fdca26"
            ],
            [
             1,
             "#f0f921"
            ]
           ],
           "sequentialminus": [
            [
             0,
             "#0d0887"
            ],
            [
             0.1111111111111111,
             "#46039f"
            ],
            [
             0.2222222222222222,
             "#7201a8"
            ],
            [
             0.3333333333333333,
             "#9c179e"
            ],
            [
             0.4444444444444444,
             "#bd3786"
            ],
            [
             0.5555555555555556,
             "#d8576b"
            ],
            [
             0.6666666666666666,
             "#ed7953"
            ],
            [
             0.7777777777777778,
             "#fb9f3a"
            ],
            [
             0.8888888888888888,
             "#fdca26"
            ],
            [
             1,
             "#f0f921"
            ]
           ]
          },
          "colorway": [
           "#636efa",
           "#EF553B",
           "#00cc96",
           "#ab63fa",
           "#FFA15A",
           "#19d3f3",
           "#FF6692",
           "#B6E880",
           "#FF97FF",
           "#FECB52"
          ],
          "font": {
           "color": "#2a3f5f"
          },
          "geo": {
           "bgcolor": "white",
           "lakecolor": "white",
           "landcolor": "#E5ECF6",
           "showlakes": true,
           "showland": true,
           "subunitcolor": "white"
          },
          "hoverlabel": {
           "align": "left"
          },
          "hovermode": "closest",
          "mapbox": {
           "style": "light"
          },
          "paper_bgcolor": "white",
          "plot_bgcolor": "#E5ECF6",
          "polar": {
           "angularaxis": {
            "gridcolor": "white",
            "linecolor": "white",
            "ticks": ""
           },
           "bgcolor": "#E5ECF6",
           "radialaxis": {
            "gridcolor": "white",
            "linecolor": "white",
            "ticks": ""
           }
          },
          "scene": {
           "xaxis": {
            "backgroundcolor": "#E5ECF6",
            "gridcolor": "white",
            "gridwidth": 2,
            "linecolor": "white",
            "showbackground": true,
            "ticks": "",
            "zerolinecolor": "white"
           },
           "yaxis": {
            "backgroundcolor": "#E5ECF6",
            "gridcolor": "white",
            "gridwidth": 2,
            "linecolor": "white",
            "showbackground": true,
            "ticks": "",
            "zerolinecolor": "white"
           },
           "zaxis": {
            "backgroundcolor": "#E5ECF6",
            "gridcolor": "white",
            "gridwidth": 2,
            "linecolor": "white",
            "showbackground": true,
            "ticks": "",
            "zerolinecolor": "white"
           }
          },
          "shapedefaults": {
           "line": {
            "color": "#2a3f5f"
           }
          },
          "ternary": {
           "aaxis": {
            "gridcolor": "white",
            "linecolor": "white",
            "ticks": ""
           },
           "baxis": {
            "gridcolor": "white",
            "linecolor": "white",
            "ticks": ""
           },
           "bgcolor": "#E5ECF6",
           "caxis": {
            "gridcolor": "white",
            "linecolor": "white",
            "ticks": ""
           }
          },
          "title": {
           "x": 0.05
          },
          "xaxis": {
           "automargin": true,
           "gridcolor": "white",
           "linecolor": "white",
           "ticks": "",
           "zerolinecolor": "white",
           "zerolinewidth": 2
          },
          "yaxis": {
           "automargin": true,
           "gridcolor": "white",
           "linecolor": "white",
           "ticks": "",
           "zerolinecolor": "white",
           "zerolinewidth": 2
          }
         }
        }
       }
      },
      "text/html": [
       "<div>\n",
       "        \n",
       "        \n",
       "            <div id=\"a7b4c688-2daf-4014-87e0-b2d920c9185b\" class=\"plotly-graph-div\" style=\"height:600px; width:100%;\"></div>\n",
       "            <script type=\"text/javascript\">\n",
       "                require([\"plotly\"], function(Plotly) {\n",
       "                    window.PLOTLYENV=window.PLOTLYENV || {};\n",
       "                    \n",
       "                if (document.getElementById(\"a7b4c688-2daf-4014-87e0-b2d920c9185b\")) {\n",
       "                    Plotly.newPlot(\n",
       "                        'a7b4c688-2daf-4014-87e0-b2d920c9185b',\n",
       "                        [{\"hoverlabel\": {\"namelength\": 0}, \"hovertemplate\": \"x=%{x}<br>y=%{y}<br>z=%{z}\", \"legendgroup\": \"\", \"marker\": {\"color\": \"#636efa\", \"symbol\": \"circle\"}, \"mode\": \"markers\", \"name\": \"\", \"scene\": \"scene\", \"showlegend\": false, \"type\": \"scatter3d\", \"x\": [1, 2, 3, 5, 4, 4, 9, 6, 2, 7, 8, 6, 9], \"y\": [2, 3, 5, 7, 6, 9, 3, 8, 5, 8, 5, 2, 10], \"z\": [4, 2, 3, 3, 1, 9, 8, 8, 6, 0, 3, 1, 3]}],\n",
       "                        {\"height\": 600, \"legend\": {\"tracegroupgap\": 0}, \"margin\": {\"t\": 60}, \"scene\": {\"domain\": {\"x\": [0.0, 0.98], \"y\": [0.0, 1.0]}, \"xaxis\": {\"title\": {\"text\": \"x\"}}, \"yaxis\": {\"title\": {\"text\": \"y\"}}, \"zaxis\": {\"title\": {\"text\": \"z\"}}}, \"template\": {\"data\": {\"bar\": [{\"error_x\": {\"color\": \"#2a3f5f\"}, \"error_y\": {\"color\": \"#2a3f5f\"}, \"marker\": {\"line\": {\"color\": \"#E5ECF6\", \"width\": 0.5}}, \"type\": \"bar\"}], \"barpolar\": [{\"marker\": {\"line\": {\"color\": \"#E5ECF6\", \"width\": 0.5}}, \"type\": \"barpolar\"}], \"carpet\": [{\"aaxis\": {\"endlinecolor\": \"#2a3f5f\", \"gridcolor\": \"white\", \"linecolor\": \"white\", \"minorgridcolor\": \"white\", \"startlinecolor\": \"#2a3f5f\"}, \"baxis\": {\"endlinecolor\": \"#2a3f5f\", \"gridcolor\": \"white\", \"linecolor\": \"white\", \"minorgridcolor\": \"white\", \"startlinecolor\": \"#2a3f5f\"}, \"type\": \"carpet\"}], \"choropleth\": [{\"colorbar\": {\"outlinewidth\": 0, \"ticks\": \"\"}, \"type\": \"choropleth\"}], \"contour\": [{\"colorbar\": {\"outlinewidth\": 0, \"ticks\": \"\"}, \"colorscale\": [[0.0, \"#0d0887\"], [0.1111111111111111, \"#46039f\"], [0.2222222222222222, \"#7201a8\"], [0.3333333333333333, \"#9c179e\"], [0.4444444444444444, \"#bd3786\"], [0.5555555555555556, \"#d8576b\"], [0.6666666666666666, \"#ed7953\"], [0.7777777777777778, \"#fb9f3a\"], [0.8888888888888888, \"#fdca26\"], [1.0, \"#f0f921\"]], \"type\": \"contour\"}], \"contourcarpet\": [{\"colorbar\": {\"outlinewidth\": 0, \"ticks\": \"\"}, \"type\": \"contourcarpet\"}], \"heatmap\": [{\"colorbar\": {\"outlinewidth\": 0, \"ticks\": \"\"}, \"colorscale\": [[0.0, \"#0d0887\"], [0.1111111111111111, \"#46039f\"], [0.2222222222222222, \"#7201a8\"], [0.3333333333333333, \"#9c179e\"], [0.4444444444444444, \"#bd3786\"], [0.5555555555555556, \"#d8576b\"], [0.6666666666666666, \"#ed7953\"], [0.7777777777777778, \"#fb9f3a\"], [0.8888888888888888, \"#fdca26\"], [1.0, \"#f0f921\"]], \"type\": \"heatmap\"}], \"heatmapgl\": [{\"colorbar\": {\"outlinewidth\": 0, \"ticks\": \"\"}, \"colorscale\": [[0.0, \"#0d0887\"], [0.1111111111111111, \"#46039f\"], [0.2222222222222222, \"#7201a8\"], [0.3333333333333333, \"#9c179e\"], [0.4444444444444444, \"#bd3786\"], [0.5555555555555556, \"#d8576b\"], [0.6666666666666666, \"#ed7953\"], [0.7777777777777778, \"#fb9f3a\"], [0.8888888888888888, \"#fdca26\"], [1.0, \"#f0f921\"]], \"type\": \"heatmapgl\"}], \"histogram\": [{\"marker\": {\"colorbar\": {\"outlinewidth\": 0, \"ticks\": \"\"}}, \"type\": \"histogram\"}], \"histogram2d\": [{\"colorbar\": {\"outlinewidth\": 0, \"ticks\": \"\"}, \"colorscale\": [[0.0, \"#0d0887\"], [0.1111111111111111, \"#46039f\"], [0.2222222222222222, \"#7201a8\"], [0.3333333333333333, \"#9c179e\"], [0.4444444444444444, \"#bd3786\"], [0.5555555555555556, \"#d8576b\"], [0.6666666666666666, \"#ed7953\"], [0.7777777777777778, \"#fb9f3a\"], [0.8888888888888888, \"#fdca26\"], [1.0, \"#f0f921\"]], \"type\": \"histogram2d\"}], \"histogram2dcontour\": [{\"colorbar\": {\"outlinewidth\": 0, \"ticks\": \"\"}, \"colorscale\": [[0.0, \"#0d0887\"], [0.1111111111111111, \"#46039f\"], [0.2222222222222222, \"#7201a8\"], [0.3333333333333333, \"#9c179e\"], [0.4444444444444444, \"#bd3786\"], [0.5555555555555556, \"#d8576b\"], [0.6666666666666666, \"#ed7953\"], [0.7777777777777778, \"#fb9f3a\"], [0.8888888888888888, \"#fdca26\"], [1.0, \"#f0f921\"]], \"type\": \"histogram2dcontour\"}], \"mesh3d\": [{\"colorbar\": {\"outlinewidth\": 0, \"ticks\": \"\"}, \"type\": \"mesh3d\"}], \"parcoords\": [{\"line\": {\"colorbar\": {\"outlinewidth\": 0, \"ticks\": \"\"}}, \"type\": \"parcoords\"}], \"scatter\": [{\"marker\": {\"colorbar\": {\"outlinewidth\": 0, \"ticks\": \"\"}}, \"type\": \"scatter\"}], \"scatter3d\": [{\"line\": {\"colorbar\": {\"outlinewidth\": 0, \"ticks\": \"\"}}, \"marker\": {\"colorbar\": {\"outlinewidth\": 0, \"ticks\": \"\"}}, \"type\": \"scatter3d\"}], \"scattercarpet\": [{\"marker\": {\"colorbar\": {\"outlinewidth\": 0, \"ticks\": \"\"}}, \"type\": \"scattercarpet\"}], \"scattergeo\": [{\"marker\": {\"colorbar\": {\"outlinewidth\": 0, \"ticks\": \"\"}}, \"type\": \"scattergeo\"}], \"scattergl\": [{\"marker\": {\"colorbar\": {\"outlinewidth\": 0, \"ticks\": \"\"}}, \"type\": \"scattergl\"}], \"scattermapbox\": [{\"marker\": {\"colorbar\": {\"outlinewidth\": 0, \"ticks\": \"\"}}, \"type\": \"scattermapbox\"}], \"scatterpolar\": [{\"marker\": {\"colorbar\": {\"outlinewidth\": 0, \"ticks\": \"\"}}, \"type\": \"scatterpolar\"}], \"scatterpolargl\": [{\"marker\": {\"colorbar\": {\"outlinewidth\": 0, \"ticks\": \"\"}}, \"type\": \"scatterpolargl\"}], \"scatterternary\": [{\"marker\": {\"colorbar\": {\"outlinewidth\": 0, \"ticks\": \"\"}}, \"type\": \"scatterternary\"}], \"surface\": [{\"colorbar\": {\"outlinewidth\": 0, \"ticks\": \"\"}, \"colorscale\": [[0.0, \"#0d0887\"], [0.1111111111111111, \"#46039f\"], [0.2222222222222222, \"#7201a8\"], [0.3333333333333333, \"#9c179e\"], [0.4444444444444444, \"#bd3786\"], [0.5555555555555556, \"#d8576b\"], [0.6666666666666666, \"#ed7953\"], [0.7777777777777778, \"#fb9f3a\"], [0.8888888888888888, \"#fdca26\"], [1.0, \"#f0f921\"]], \"type\": \"surface\"}], \"table\": [{\"cells\": {\"fill\": {\"color\": \"#EBF0F8\"}, \"line\": {\"color\": \"white\"}}, \"header\": {\"fill\": {\"color\": \"#C8D4E3\"}, \"line\": {\"color\": \"white\"}}, \"type\": \"table\"}]}, \"layout\": {\"annotationdefaults\": {\"arrowcolor\": \"#2a3f5f\", \"arrowhead\": 0, \"arrowwidth\": 1}, \"colorscale\": {\"diverging\": [[0, \"#8e0152\"], [0.1, \"#c51b7d\"], [0.2, \"#de77ae\"], [0.3, \"#f1b6da\"], [0.4, \"#fde0ef\"], [0.5, \"#f7f7f7\"], [0.6, \"#e6f5d0\"], [0.7, \"#b8e186\"], [0.8, \"#7fbc41\"], [0.9, \"#4d9221\"], [1, \"#276419\"]], \"sequential\": [[0.0, \"#0d0887\"], [0.1111111111111111, \"#46039f\"], [0.2222222222222222, \"#7201a8\"], [0.3333333333333333, \"#9c179e\"], [0.4444444444444444, \"#bd3786\"], [0.5555555555555556, \"#d8576b\"], [0.6666666666666666, \"#ed7953\"], [0.7777777777777778, \"#fb9f3a\"], [0.8888888888888888, \"#fdca26\"], [1.0, \"#f0f921\"]], \"sequentialminus\": [[0.0, \"#0d0887\"], [0.1111111111111111, \"#46039f\"], [0.2222222222222222, \"#7201a8\"], [0.3333333333333333, \"#9c179e\"], [0.4444444444444444, \"#bd3786\"], [0.5555555555555556, \"#d8576b\"], [0.6666666666666666, \"#ed7953\"], [0.7777777777777778, \"#fb9f3a\"], [0.8888888888888888, \"#fdca26\"], [1.0, \"#f0f921\"]]}, \"colorway\": [\"#636efa\", \"#EF553B\", \"#00cc96\", \"#ab63fa\", \"#FFA15A\", \"#19d3f3\", \"#FF6692\", \"#B6E880\", \"#FF97FF\", \"#FECB52\"], \"font\": {\"color\": \"#2a3f5f\"}, \"geo\": {\"bgcolor\": \"white\", \"lakecolor\": \"white\", \"landcolor\": \"#E5ECF6\", \"showlakes\": true, \"showland\": true, \"subunitcolor\": \"white\"}, \"hoverlabel\": {\"align\": \"left\"}, \"hovermode\": \"closest\", \"mapbox\": {\"style\": \"light\"}, \"paper_bgcolor\": \"white\", \"plot_bgcolor\": \"#E5ECF6\", \"polar\": {\"angularaxis\": {\"gridcolor\": \"white\", \"linecolor\": \"white\", \"ticks\": \"\"}, \"bgcolor\": \"#E5ECF6\", \"radialaxis\": {\"gridcolor\": \"white\", \"linecolor\": \"white\", \"ticks\": \"\"}}, \"scene\": {\"xaxis\": {\"backgroundcolor\": \"#E5ECF6\", \"gridcolor\": \"white\", \"gridwidth\": 2, \"linecolor\": \"white\", \"showbackground\": true, \"ticks\": \"\", \"zerolinecolor\": \"white\"}, \"yaxis\": {\"backgroundcolor\": \"#E5ECF6\", \"gridcolor\": \"white\", \"gridwidth\": 2, \"linecolor\": \"white\", \"showbackground\": true, \"ticks\": \"\", \"zerolinecolor\": \"white\"}, \"zaxis\": {\"backgroundcolor\": \"#E5ECF6\", \"gridcolor\": \"white\", \"gridwidth\": 2, \"linecolor\": \"white\", \"showbackground\": true, \"ticks\": \"\", \"zerolinecolor\": \"white\"}}, \"shapedefaults\": {\"line\": {\"color\": \"#2a3f5f\"}}, \"ternary\": {\"aaxis\": {\"gridcolor\": \"white\", \"linecolor\": \"white\", \"ticks\": \"\"}, \"baxis\": {\"gridcolor\": \"white\", \"linecolor\": \"white\", \"ticks\": \"\"}, \"bgcolor\": \"#E5ECF6\", \"caxis\": {\"gridcolor\": \"white\", \"linecolor\": \"white\", \"ticks\": \"\"}}, \"title\": {\"x\": 0.05}, \"xaxis\": {\"automargin\": true, \"gridcolor\": \"white\", \"linecolor\": \"white\", \"ticks\": \"\", \"zerolinecolor\": \"white\", \"zerolinewidth\": 2}, \"yaxis\": {\"automargin\": true, \"gridcolor\": \"white\", \"linecolor\": \"white\", \"ticks\": \"\", \"zerolinecolor\": \"white\", \"zerolinewidth\": 2}}}},\n",
       "                        {\"responsive\": true}\n",
       "                    ).then(function(){\n",
       "                            \n",
       "var gd = document.getElementById('a7b4c688-2daf-4014-87e0-b2d920c9185b');\n",
       "var x = new MutationObserver(function (mutations, observer) {{\n",
       "        var display = window.getComputedStyle(gd).display;\n",
       "        if (!display || display === 'none') {{\n",
       "            console.log([gd, 'removed!']);\n",
       "            Plotly.purge(gd);\n",
       "            observer.disconnect();\n",
       "        }}\n",
       "}});\n",
       "\n",
       "// Listen for the removal of the full notebook cells\n",
       "var notebookContainer = gd.closest('#notebook-container');\n",
       "if (notebookContainer) {{\n",
       "    x.observe(notebookContainer, {childList: true});\n",
       "}}\n",
       "\n",
       "// Listen for the clearing of the current output cell\n",
       "var outputEl = gd.closest('.output');\n",
       "if (outputEl) {{\n",
       "    x.observe(outputEl, {childList: true});\n",
       "}}\n",
       "\n",
       "                        })\n",
       "                };\n",
       "                });\n",
       "            </script>\n",
       "        </div>"
      ]
     },
     "metadata": {},
     "output_type": "display_data"
    }
   ],
   "source": [
    "input = [[1,2,4], [2,3,2], [3,5,3], [5,7,3], [4,6,1], [4,9,9], [9,3,8], [6,8,8], [2,5,6], [7,8,0], [8,5,3], [6,2,1], [9,10,3]]\n",
    "# convert list input into data frame\n",
    "input = pandas.DataFrame(input, columns=[\"x\", \"y\", \"z\"])\n",
    "\n",
    "import pandas, plotly.express as px\n",
    "def scatterGraph(input, dim):\n",
    "    \"\"\"\n",
    "    Args:\n",
    "        input (DataFrame): points to feed in\n",
    "        dim (int): number of dimensions to graph in\n",
    "    Returns:\n",
    "        nothing, plots nice looking scatterplot in 2D or 3D\n",
    "    \"\"\"\n",
    "    if dim == 2:\n",
    "        input.columns = ['x', 'y']\n",
    "        fig = px.scatter(input, x=\"x\", y=\"y\")\n",
    "    elif dim == 3:\n",
    "        input.columns = ['x', 'y', 'z']\n",
    "        fig = px.scatter_3d(input, x=\"x\", y=\"y\", z=\"z\")\n",
    "    fig.show()\n",
    "\n",
    "scatterGraph(input, 3)"
   ]
  },
  {
   "cell_type": "code",
   "execution_count": 214,
   "metadata": {},
   "outputs": [
    {
     "data": {
      "application/vnd.plotly.v1+json": {
       "config": {
        "plotlyServerURL": "https://plot.ly"
       },
       "data": [
        {
         "alignmentgroup": "True",
         "hoverlabel": {
          "namelength": 0
         },
         "hovertemplate": "col variable=%{x}<br>variance explained=%{y}",
         "legendgroup": "",
         "marker": {
          "color": "#636efa"
         },
         "name": "",
         "offsetgroup": "",
         "orientation": "v",
         "showlegend": false,
         "textposition": "auto",
         "type": "bar",
         "x": [
          "1674120023_B;1000",
          "1674120023_F;1000",
          "1674120053_B;1000",
          "1674120053_C;1000",
          "1674120078_A;1000",
          "1674120078_F;1000",
          "1674120079_D;1000",
          "1674120079_E;1000",
          "1674120084_B;1000",
          "1674120084_D;1000",
          "1674120085_A;1000",
          "1674120085_B;1000",
          "1674120108_C;1000",
          "1674120108_F;1000",
          "1714460289_B;1000",
          "1714460297_B;1000",
          "1714460297_D;1000",
          "1714460297_F;1000",
          "3998755167_A;6612",
          "3998755167_D;6612",
          "3998755167_F;6612",
          "3998755167_G;6612",
          "3998755167_H;6612",
          "3998755167_I;6612",
          "3998755167_J;6612",
          "3998755167_K;6612",
          "3998755170_B;6612",
          "3998755170_C;6612",
          "3998755170_D;6612",
          "3998755170_E;6612",
          "3998755170_F;6612",
          "3998755170_G;6612",
          "3998755170_H;6612",
          "3998755170_I;6612",
          "3998755170_J;6612",
          "3998755170_K;6612",
          "3998755170_L;6612",
          "5645810031_J;6646",
          "5645810032_K;6646",
          "5645810046_J;6646",
          "5645810051_J;6646",
          "5645810059_B;6646",
          "5645810059_L;6646",
          "5655508009_H;6646",
          "5655508016_H;6646",
          "5655508017_F;6646",
          "5655508017_H;6646",
          "5655508047_B;6646",
          "5655508047_H;6646",
          "5655508048_A;6646",
          "5655508048_B;6646",
          "5655508048_K;6646",
          "5655508054_L;6646",
          "5666194004_C;6646",
          "5666194004_G;6646",
          "5666194004_H;6646",
          "5666194004_K;6646",
          "5666194008_A;6646",
          "5666194008_C;6646",
          "5666194022_G;6646",
          "5666194022_I;6646",
          "5666194025_J;6646",
          "5666194026_I;6646",
          "5666194027_A;6646",
          "5666194027_E;6646",
          "5666194027_H;6646",
          "6747973056_D;6646",
          "6747973056_J;6646",
          "6898368066_H;6646",
          "6898368066_K;6646",
          "6898368069_G;6646",
          "6898368080_G;6646",
          "6898376045_J;6646",
          "6898376063_I;6646",
          "6898376067_J;6646",
          "6898376078_G;6646",
          "6898376081_F;6646",
          "6898376089_G;6646",
          "6898376089_L;6646",
          "6898376090_B;6646",
          "6898376095_A;6646",
          "6991010002_E;6646",
          "6991010010_K;6646",
          "6991010030_E;6646",
          "6991010030_J;6646",
          "6991010045_D;6646",
          "6991010046_E;6646",
          "7466516008_H;6646",
          "7466516017_F;6646",
          "7466516017_K;6646",
          "7466516034_J;6646",
          "7466516034_L;6646",
          "7466516037_L;6646",
          "7466516038_D;6646",
          "7509352079_G;6646",
          "7509352083_B;6646",
          "7509352083_F;6646",
          "7509352083_H;6646",
          "7509352083_K;6646",
          "7509379004_H;6646",
          "7509379008_C;6646",
          "7509379010_C;6646",
          "7509379010_F;6646",
          "7509379010_J;6646",
          "7509379012_J;6646",
          "7509379017_H;6646",
          "7509379082_B;6646",
          "7509379082_J;6646",
          "7509379090_H;6646",
          "7509379090_I;6646",
          "7509379091_L;6646",
          "7509379096_I;6646",
          "7509379107_H;6646",
          "7649558052_H;6646",
          "7649558069_I;6646",
          "9249896042_F;6646",
          "9249896042_G;6646",
          "9249896042_I;6646",
          "9249896042_J;6646",
          "9249896082_F;6646",
          "9249896082_I;6646",
          "9252616022_E;6646",
          "9252616022_I;6646",
          "9252616028_L;6646",
          "9252616029_A;6646",
          "9252616029_G;6646",
          "9252616029_I;6646",
          "9252616034_D;6646",
          "9252616034_F;6646",
          "9252616034_L;6646",
          "9252616055_H;6646",
          "9252616057_L;6646",
          "9252616058_C;6646",
          "9252616073_D;6646",
          "9252616087_C;6646",
          "9252616087_D;6646",
          "9252616094_D;6646",
          "9252616095_K;6646",
          "9252616096_B;6646",
          "9252616096_D;6646",
          "9252616097_L;6646",
          "9252616099_G;6646",
          "9252616099_L;6646",
          "9252616100_D;6646",
          "9252616100_E;6646",
          "9252616100_J;6646",
          "9257622042_G;6646",
          "9257622045_I;6646",
          "9257622077_I;6646",
          "9257622095_F;6646",
          "9257622095_I;6646",
          "9257622098_D;6646",
          "9257622099_E;6646",
          "9257622099_G;6646",
          "9257622099_H;6646",
          "9257622100_K;6646",
          "9257631006_H;6646",
          "9257631015_D;6646",
          "9257631015_G;6646",
          "9257631015_K;6646",
          "9257631015_L;6646",
          "9257631019_J;6646",
          "9257631026_G;6646",
          "9257631026_L;6646",
          "9257631027_C;6646",
          "9257631027_J;6646",
          "9257631032_D;6646",
          "9257631032_J;6646",
          "9257631036_G;6646",
          "9257631045_I;6646",
          "9257631050_D;6646",
          "9257631050_E;6646",
          "9257631053_F;6646",
          "9257631053_G;6646",
          "9257631056_D;6646",
          "9257631056_L;6646",
          "9257631069_E;6646",
          "9259561002_A;6646",
          "9259561002_B;6646",
          "9259561002_H;6646",
          "9259561002_L;6646",
          "9259561005_E;6646",
          "A;7002",
          "B;7002",
          "C;7002",
          "FANTOM-14;7079",
          "FANTOM-15;7079",
          "FANTOM-16;7079",
          "FANTOM-17;7079",
          "FANTOM-18;7079",
          "FANTOM-19;7079",
          "FANTOM-20;7079",
          "FANTOM-24;7079",
          "FANTOM10;7079",
          "FANTOM11;7079",
          "FANTOM12;7079",
          "FANTOM13;7079",
          "FANTOM21;7079",
          "FANTOM22;7079",
          "FANTOM25;7079",
          "FANTOM26;7079",
          "FANTOM27;7079",
          "FANTOM28;7079",
          "FANTOM29;7079",
          "FANTOM30;7079",
          "FANTOM31;7079",
          "FANTOM32;7079",
          "FANTOM34;7079",
          "FANTOM35;7079",
          "FANTOM36;7079",
          "FANTOM6-1;7079",
          "FANTOM6-2;7079",
          "FANTOM6-3;7079",
          "FANTOM6-4;7079",
          "FANTOM6-5;7079",
          "FANTOM6-6;7079",
          "FANTOM6-7;7079",
          "FANTOM9;7079",
          "GSM1004101;6237",
          "GSM1004102;6237",
          "GSM1004103;6237",
          "GSM1004104;6237",
          "GSM1004105;6237",
          "GSM1004106;6237",
          "GSM1004107;6237",
          "GSM1004108;6237",
          "GSM1004109;6237",
          "GSM1004110;6237",
          "GSM1004111;6237",
          "GSM1004112;6237",
          "GSM1004113;6237",
          "GSM1004114;6237",
          "GSM1041380;6358",
          "GSM1041381;6358",
          "GSM1041382;6358",
          "GSM1041383;6358",
          "GSM1041386;6358",
          "GSM1041387;6358",
          "GSM1041388;6358",
          "GSM1041389;6358",
          "GSM1041390;6358",
          "GSM1041391;6358",
          "GSM1041392;6358",
          "GSM1041393;6358",
          "GSM1041396;6358",
          "GSM1041397;6358",
          "GSM1041398;6358",
          "GSM1041399;6358",
          "GSM1041400;6358",
          "GSM1041401;6358",
          "GSM1041402;6358",
          "GSM1041403;6358",
          "GSM1041404;6358",
          "GSM1041405;6358",
          "GSM1041406;6358",
          "GSM1041407;6358",
          "GSM1041408;6358",
          "GSM1041409;6358",
          "GSM1041410;6358",
          "GSM1068613;6774",
          "GSM1068614;6774",
          "GSM1068615;6774",
          "GSM1068616;6774",
          "GSM1068617;6774",
          "GSM1068618;6774",
          "GSM1068619;6774",
          "GSM1068620;6774",
          "GSM1093999;6363",
          "GSM1094000;6363",
          "GSM1094001;6363",
          "GSM1094002;6363",
          "GSM1094013;6363",
          "GSM1094014;6363",
          "GSM1094015;6363",
          "GSM1097812;6366",
          "GSM1097813;6366",
          "GSM1097814;6366",
          "GSM1097815;6366",
          "GSM1097816;6366",
          "GSM1097817;6366",
          "GSM1097818;6366",
          "GSM1097819;6366",
          "GSM1097820;6366",
          "GSM1162510;6326",
          "GSM1162511;6326",
          "GSM1162512;6326",
          "GSM1162513;6326",
          "GSM1162515;6326",
          "GSM1162516;6326",
          "GSM1162517;6326",
          "GSM1162518;6326",
          "GSM1162520;6326",
          "GSM1162521;6326",
          "GSM1162522;6326",
          "GSM1162523;6326",
          "GSM1210379;6339",
          "GSM1210380;6339",
          "GSM1210381;6339",
          "GSM1210382;6339",
          "GSM1210383;6339",
          "GSM1210384;6339",
          "GSM1210385;6339",
          "GSM1210386;6339",
          "GSM1210387;6339",
          "GSM1210388;6339",
          "GSM1210389;6339",
          "GSM1210390;6339",
          "GSM1210391;6339",
          "GSM1210392;6339",
          "GSM1210393;6339",
          "GSM1210394;6339",
          "GSM1210395;6339",
          "GSM1210396;6339",
          "GSM1210397;6339",
          "GSM1210398;6339",
          "GSM1210399;6339",
          "GSM1210400;6339",
          "GSM1210401;6339",
          "GSM1210402;6339",
          "GSM1210403;6339",
          "GSM1210404;6339",
          "GSM1210405;6339",
          "GSM1210406;6339",
          "GSM1304777;6601",
          "GSM1304778;6601",
          "GSM1304779;6601",
          "GSM1304780;6601",
          "GSM1304781;6601",
          "GSM1304782;6601",
          "GSM1304783;6601",
          "GSM1304784;6601",
          "GSM1304785;6601",
          "GSM1304786;6601",
          "GSM1304787;6601",
          "GSM1304788;6601",
          "GSM1304789;6601",
          "GSM1304790;6601",
          "GSM1304791;6601",
          "GSM1338806;7264",
          "GSM1338808;7264",
          "GSM1338811;7264",
          "GSM1338813;7264",
          "GSM1338815;7264",
          "GSM1367902;6741",
          "GSM1367903;6741",
          "GSM1367904;6741",
          "GSM1367905;6741",
          "GSM1367906;6741",
          "GSM1367907;6741",
          "GSM1367908;6741",
          "GSM1367909;6741",
          "GSM1367910;6741",
          "GSM1367911;6741",
          "GSM1367912;6741",
          "GSM1367913;6741",
          "GSM1367914;6741",
          "GSM1367915;6741",
          "GSM1367916;6741",
          "GSM1367917;6741",
          "GSM1367918;6741",
          "GSM1367919;6741",
          "GSM1367920;6741",
          "GSM1367921;6741",
          "GSM1367922;6741",
          "GSM1367923;6741",
          "GSM1367924;6741",
          "GSM1367925;6741",
          "GSM1367926;6741",
          "GSM1367927;6741",
          "GSM1367928;6741",
          "GSM1367929;6741",
          "GSM1367930;6741",
          "GSM1367931;6741",
          "GSM1367932;6741",
          "GSM1367933;6741",
          "GSM1367934;6741",
          "GSM1367935;6741",
          "GSM1367936;6741",
          "GSM1367937;6741",
          "GSM1367938;6741",
          "GSM1367939;6741",
          "GSM1367940;6741",
          "GSM1367941;6741",
          "GSM1367942;6741",
          "GSM1367943;6741",
          "GSM1367944;6741",
          "GSM1367945;6741",
          "GSM1367946;6741",
          "GSM1367947;6741",
          "GSM1367948;6741",
          "GSM1367949;6741",
          "GSM1367950;6741",
          "GSM1367951;6741",
          "GSM1367952;6741",
          "GSM1367953;6741",
          "GSM1367954;6741",
          "GSM1367955;6741",
          "GSM1367956;6741",
          "GSM1367957;6741",
          "GSM1367958;6741",
          "GSM1367959;6741",
          "GSM1367960;6741",
          "GSM1367961;6741",
          "GSM1367962;6741",
          "GSM1367963;6741",
          "GSM1367964;6741",
          "GSM1367965;6741",
          "GSM1367966;6741",
          "GSM1367967;6741",
          "GSM1367968;6741",
          "GSM1367969;6741",
          "GSM1367970;6741",
          "GSM1367971;6741",
          "GSM1367972;6741",
          "GSM1367973;6741",
          "GSM1367974;6741",
          "GSM1367975;6741",
          "GSM1367976;6741",
          "GSM1367977;6741",
          "GSM1367978;6741",
          "GSM1367979;6741",
          "GSM1367980;6741",
          "GSM1367981;6741",
          "GSM1367982;6741",
          "GSM1367983;6741",
          "GSM1367984;6741",
          "GSM1367985;6741",
          "GSM1367986;6741",
          "GSM1367987;6741",
          "GSM1367988;6741",
          "GSM1367989;6741",
          "GSM1386443;7003",
          "GSM1386444;7003",
          "GSM1386445;7003",
          "GSM1386446;7003",
          "GSM1386447;7003",
          "GSM1386448;7003",
          "GSM1386449;7003",
          "GSM1386450;7003",
          "GSM1386451;7003",
          "GSM1386452;7003",
          "GSM1386453;7003",
          "GSM1386454;7003",
          "GSM1386455;7003",
          "GSM1386456;7003",
          "GSM1386457;7003",
          "GSM1386458;7003",
          "GSM1386459;7003",
          "GSM1386460;7003",
          "GSM1386461;7003",
          "GSM1386462;7003",
          "GSM1386463;7003",
          "GSM1386464;7003",
          "GSM1386465;7003",
          "GSM1386466;7003",
          "GSM1386467;7003",
          "GSM1386468;7003",
          "GSM1386469;7003",
          "GSM1386470;7003",
          "GSM1386471;7003",
          "GSM1386472;7003",
          "GSM1386473;7003",
          "GSM1386474;7003",
          "GSM1386475;7003",
          "GSM1386476;7003",
          "GSM1386477;7003",
          "GSM1386478;7003",
          "GSM1386479;7003",
          "GSM1386480;7003",
          "GSM1386481;7003",
          "GSM1386482;7003",
          "GSM1386483;7003",
          "GSM1386484;7003",
          "GSM1386485;7003",
          "GSM1386486;7003",
          "GSM1386487;7003",
          "GSM1386488;7003",
          "GSM1386489;7003",
          "GSM1386490;7003",
          "GSM1386491;7003",
          "GSM1386492;7003",
          "GSM1386493;7003",
          "GSM1386494;7003",
          "GSM1386495;7003",
          "GSM1386496;7003",
          "GSM1386497;7003",
          "GSM1386498;7003",
          "GSM1386499;7003",
          "GSM1386500;7003",
          "GSM1386501;7003",
          "GSM1386502;7003",
          "GSM1386503;7003",
          "GSM1386504;7003",
          "GSM1386505;7003",
          "GSM1386506;7003",
          "GSM1386507;7003",
          "GSM1386508;7003",
          "GSM1386509;7003",
          "GSM1386510;7003",
          "GSM1386511;7003",
          "GSM1386512;7003",
          "GSM1386513;7003",
          "GSM1386514;7003",
          "GSM1386515;7003",
          "GSM1386516;7003",
          "GSM1427132;6572",
          "GSM1427133;6572",
          "GSM1427134;6572",
          "GSM1427135;6572",
          "GSM1427136;6572",
          "GSM1427137;6572",
          "GSM1427138;6572",
          "GSM1427139;6572",
          "GSM1427140;6572",
          "GSM1427141;6572",
          "GSM1427142;6572",
          "GSM1427143;6572",
          "GSM1427144;6572",
          "GSM1427145;6572",
          "GSM1427146;6572",
          "GSM1600118;6272",
          "GSM1600119;6272",
          "GSM1600120;6272",
          "GSM1600121;6272",
          "GSM1600122;6272",
          "GSM1600123;6272",
          "GSM1600124;6272",
          "GSM1600125;6272",
          "GSM1600126;6272",
          "GSM1600127;6272",
          "GSM1600128;6272",
          "GSM1600129;6272",
          "GSM1600130;6272",
          "GSM1600131;6272",
          "GSM1600132;6272",
          "GSM1600133;6272",
          "GSM1600134;6272",
          "GSM1600135;6272",
          "GSM1612360;7319",
          "GSM1612361;7319",
          "GSM1612362;7319",
          "GSM1612363;7319",
          "GSM1612364;7319",
          "GSM1612365;7319",
          "GSM1695850;7284",
          "GSM1695851;7284",
          "GSM1695854;7284",
          "GSM1695855;7284",
          "GSM1925965;7264",
          "GSM1925966;7264",
          "GSM1925968;7264",
          "GSM1977401;7283",
          "GSM1977407;7283",
          "GSM2036944;7288",
          "GSM2036945;7288",
          "GSM2036946;7288",
          "GSM2036947;7288",
          "GSM2036948;7288",
          "GSM2036949;7288",
          "GSM2036950;7288",
          "GSM2036951;7288",
          "GSM2036952;7288",
          "GSM2036953;7288",
          "GSM2036954;7288",
          "GSM2036955;7288",
          "GSM2036956;7288",
          "GSM2036957;7288",
          "GSM2036958;7288",
          "GSM2036961;7288",
          "GSM2036962;7288",
          "GSM2036963;7288",
          "GSM2036964;7288",
          "GSM2036965;7288",
          "GSM2036966;7288",
          "GSM2036967;7288",
          "GSM2036968;7288",
          "GSM2036969;7288",
          "GSM2036970;7288",
          "GSM2036971;7288",
          "GSM2036972;7288",
          "GSM2036973;7288",
          "GSM2036974;7288",
          "GSM2036975;7288",
          "GSM2067545;7277",
          "GSM2067546;7277",
          "GSM2067547;7277",
          "GSM2067551;7277",
          "GSM2067552;7277",
          "GSM2067553;7277",
          "GSM2285362;7062",
          "GSM2285363;7062",
          "GSM2285365;7062",
          "GSM2285366;7062",
          "GSM2285367;7062",
          "GSM2285368;7062",
          "GSM2285369;7062",
          "GSM2285370;7062",
          "GSM2285371;7062",
          "GSM2285372;7062",
          "GSM2285373;7062",
          "GSM2360258;7268",
          "GSM2360259;7268",
          "GSM2360260;7268",
          "GSM2360265;7268",
          "GSM2360266;7268",
          "GSM2360267;7268",
          "GSM2360268;7268",
          "GSM2360269;7268",
          "GSM2360270;7268",
          "GSM2360271;7268",
          "GSM2360272;7268",
          "GSM2360273;7268",
          "GSM2360280;7268",
          "GSM2360281;7268",
          "GSM2360282;7268",
          "GSM2360283;7268",
          "GSM2360284;7268",
          "GSM2360285;7268",
          "GSM2360286;7268",
          "GSM2360287;7268",
          "GSM2360288;7268",
          "GSM2445478;7268",
          "GSM2445479;7268",
          "GSM2445480;7268",
          "GSM250022;6037",
          "GSM250023;6037",
          "GSM250024;6037",
          "GSM250025;6037",
          "GSM250026;6037",
          "GSM250027;6037",
          "GSM2551704;7268",
          "GSM2551705;7268",
          "GSM2551706;7268",
          "GSM2576749;7193",
          "GSM2576750;7193",
          "GSM2576751;7193",
          "GSM2576752;7193",
          "GSM2576753;7193",
          "GSM2576754;7193",
          "GSM2576755;7193",
          "GSM2576756;7193",
          "GSM2576757;7193",
          "GSM2576758;7193",
          "GSM2576759;7193",
          "GSM2576761;7193",
          "GSM2576762;7193",
          "GSM2576764;7193",
          "GSM2576765;7193",
          "GSM2576766;7193",
          "GSM2576767;7193",
          "GSM2576768;7193",
          "GSM2576769;7193",
          "GSM2576770;7193",
          "GSM2576771;7193",
          "GSM2576772;7193",
          "GSM2576773;7193",
          "GSM2576774;7193",
          "GSM2651067;7371",
          "GSM2651068;7371",
          "GSM2651069;7371",
          "GSM2651070;7371",
          "GSM2651071;7371",
          "GSM2651072;7371",
          "GSM2651073;7371",
          "GSM2651074;7371",
          "GSM2651075;7371",
          "GSM2717641;6530",
          "GSM2717642;6530",
          "GSM2717643;6530",
          "GSM2717644;6530",
          "GSM2717645;6530",
          "GSM2717646;6530",
          "GSM2717647;6530",
          "GSM2717648;6530",
          "GSM2717649;6530",
          "GSM2717650;6530",
          "GSM2717651;6530",
          "GSM2717652;6530",
          "GSM2717653;6530",
          "GSM2717654;6530",
          "GSM2717655;6530",
          "GSM2717656;6530",
          "GSM2717657;6530",
          "GSM2717658;6530",
          "GSM2717659;6530",
          "GSM2717660;6530",
          "GSM2717661;6530",
          "GSM2717662;6530",
          "GSM2717663;6530",
          "GSM2717664;6530",
          "GSM2717665;6530",
          "GSM2717666;6530",
          "GSM2717667;6530",
          "GSM2717668;6530",
          "GSM2717669;6530",
          "GSM2717670;6530",
          "GSM2717671;6530",
          "GSM2717672;6530",
          "GSM2717673;6530",
          "GSM2717674;6530",
          "GSM2717675;6530",
          "GSM2717676;6530",
          "GSM2717677;6530",
          "GSM2717678;6530",
          "GSM2717679;6530",
          "GSM2717680;6530",
          "GSM2717681;6530",
          "GSM2717682;6530",
          "GSM2717683;6530",
          "GSM2717684;6412",
          "GSM2717685;6412",
          "GSM2717686;6412",
          "GSM2717687;6412",
          "GSM2717688;6412",
          "GSM2717689;6412",
          "GSM2717690;6412",
          "GSM2717691;6412",
          "GSM2717692;6412",
          "GSM2849362;7323",
          "GSM2849363;7323",
          "GSM2849364;7323",
          "GSM2849365;7323",
          "GSM2849366;7323",
          "GSM2849367;7323",
          "GSM2849368;7323",
          "GSM2849369;7323",
          "GSM2849370;7323",
          "GSM2849371;7323",
          "GSM2861551;7358",
          "GSM2861552;7358",
          "GSM2861553;7358",
          "GSM2861554;7358",
          "GSM2861555;7358",
          "GSM2861556;7358",
          "GSM2861557;7358",
          "GSM2861558;7358",
          "GSM2861559;7358",
          "GSM2861560;7358",
          "GSM3019392;7321",
          "GSM3019393;7321",
          "GSM3019394;7321",
          "GSM3019395;7321",
          "GSM3019396;7321",
          "GSM3019397;7321",
          "GSM3019398;7321",
          "GSM3019399;7321",
          "GSM3019400;7321",
          "GSM3019401;7321",
          "GSM3019402;7321",
          "GSM3044855;7320",
          "GSM3044856;7320",
          "GSM3044857;7320",
          "GSM3044858;7320",
          "GSM3044859;7320",
          "GSM3044860;7320",
          "GSM3044861;7320",
          "GSM3044862;7320",
          "GSM396480;6003",
          "GSM396481;6003",
          "GSM396482;6003",
          "GSM396483;6003",
          "GSM396484;6003",
          "GSM396485;6003",
          "GSM396486;6003",
          "GSM396487;6003",
          "GSM396488;6003",
          "GSM397303;7021",
          "GSM397307;7021",
          "GSM397311;7021",
          "GSM422109;6238",
          "GSM422110;6238",
          "GSM422111;6238",
          "GSM422112;6238",
          "GSM422113;6238",
          "GSM422114;6238",
          "GSM422116;6238",
          "GSM721066;6886",
          "GSM721067;6886",
          "GSM721068;6886",
          "GSM721069;6886",
          "GSM721070;6886",
          "GSM721071;6886",
          "GSM812988;6661",
          "GSM812989;6661",
          "GSM812990;6661",
          "GSM812991;6661",
          "GSM812992;6661",
          "GSM812993;6661",
          "GSM812994;6661",
          "GSM812995;6661",
          "GSM812996;6661",
          "GSM812997;6661",
          "GSM812998;6661",
          "GSM812999;6661",
          "GSM813000;6661",
          "GSM813001;6661",
          "GSM813002;6661",
          "GSM813003;6661",
          "GSM813004;6661",
          "GSM813005;6661",
          "GSM813006;6661",
          "GSM813007;6661",
          "GSM813008;6661",
          "GSM813009;6661",
          "GSM813010;6661",
          "GSM813011;6661",
          "GSM813012;6661",
          "GSM813013;6661",
          "GSM813014;6661",
          "GSM868877;6638",
          "GSM868878;6638",
          "GSM868879;6638",
          "GSM868880;6638",
          "GSM868881;6638",
          "GSM868882;6638",
          "GSM868883;6638",
          "GSM868884;6638",
          "GSM868885;6638",
          "GSM868886;6638",
          "GSM868887;6638",
          "GSM868888;6638",
          "GSM868889;6638",
          "GSM868890;6638",
          "GSM868891;6638",
          "GSM868892;6638",
          "GSM868893;6638",
          "GSM868894;6638",
          "GSM868895;6638",
          "GSM868896;6638",
          "GSM868897;6638",
          "GSM868898;6638",
          "GSM868899;6638",
          "GSM868900;6638",
          "GSM868901;6638",
          "GSM868902;6638",
          "GSM868903;6638",
          "GSM868904;6638",
          "GSM868905;6638",
          "GSM868906;6638",
          "GSM868907;6638",
          "GSM868908;6638",
          "GSM868909;6638",
          "GSM870541;6509",
          "GSM870542;6509",
          "GSM870543;6509",
          "GSM870544;6509",
          "GSM870545;6509",
          "GSM870546;6509",
          "GSM994840;6463",
          "GSM994841;6463",
          "GSM994842;6463",
          "GSM994843;6463",
          "GSM994844;6463",
          "GSM994845;6463",
          "GSM994846;6463",
          "GSM994847;6463",
          "GSM994848;6463",
          "GSM994849;6463",
          "GSM994850;6463",
          "GSM994851;6463",
          "GSM994852;6463",
          "GSM994853;6463",
          "GSM994856;6463",
          "GSM994857;6463",
          "GSM994858;6463",
          "GSM994859;6463",
          "GSM994860;6463",
          "GSM994861;6463",
          "GSM999015;6252",
          "GSM999016;6252",
          "GSM999017;6252",
          "GSM999018;6252",
          "GSM999019;6252",
          "GSM999020;6252",
          "GSM999021;6252",
          "GSM999022;6252",
          "GSM999023;6252",
          "J;7002",
          "K;7002",
          "KK1HSC1_1;6610",
          "KK1HSC1_2;6610",
          "KK1HSC2_1;6610",
          "KK1HSC2_2;6610",
          "KK1HSC3_1;6610",
          "KK1HSC3_2;6610",
          "KK3HPC1_1;6610",
          "KK3HPC1_2;6610",
          "KK3HPC2_1;6610",
          "KK3HPC2_2;6610",
          "KK3HPC3_1;6610",
          "KK3HPC3_2;6610",
          "L;7002",
          "M;7002",
          "N;7002",
          "O;7002",
          "P;7002",
          "Q;7002",
          "R;7002",
          "S;7002",
          "T;7002",
          "U;7002"
         ],
         "xaxis": "x",
         "y": [
          0.705689248580161,
          0.06779631388396909,
          0.03152343617281322,
          0.020619882979717695,
          0.013415889154955493,
          0.010819820801362583,
          0.009351127590486986,
          0.007172104378729643,
          0.006665903972623937,
          0.006120994420197803,
          0.00504048885243602,
          0.004404634837150895,
          0.004127465129695585,
          0.003925199053284843,
          0.0035361165452733306,
          0.0032897920356689853,
          0.003047173978619102,
          0.0029348268086319927,
          0.002530926757821972,
          0.0022007755762564383,
          0.0020894563290684764,
          0.001923081479829172,
          0.0017713950401134475,
          0.0016385340462757947,
          0.001613544323734831,
          0.0015091370086025772,
          0.0014851654582156962,
          0.0013571968412506078,
          0.001310724610429768,
          0.0012187763209862911,
          0.001194927168467129,
          0.0011685315914348796,
          0.001116829240757682,
          0.0010419195165959937,
          0.000986942950965397,
          0.0009102850857474512,
          0.0009083594793519054,
          0.0008024792558380551,
          0.0007739227553217597,
          0.0007469358620294598,
          0.0007210004403182395,
          0.0007170410754664099,
          0.0006827957369891724,
          0.000668056915382932,
          0.0006334659151496073,
          0.0006155286022882436,
          0.0005992023582385783,
          0.0005761214510835191,
          0.0005500009328241009,
          0.0005363252642608229,
          0.0005135301355645987,
          0.0004956557479613108,
          0.0004921967942938174,
          0.00048690775431850324,
          0.000469522865364196,
          0.00046212335504536046,
          0.0004492353837766628,
          0.00043964103633334063,
          0.00041299552142034075,
          0.00040640083917222684,
          0.00040314847664533375,
          0.000388930945494802,
          0.0003750126694588839,
          0.0003719371757872136,
          0.0003607328640365507,
          0.00035569859144389174,
          0.0003505714518017824,
          0.00034292102828799553,
          0.0003252039202731935,
          0.0003230626395905307,
          0.0003189231141744191,
          0.0003137608148985479,
          0.0002974558759784279,
          0.00029165673454831925,
          0.00028328845581448043,
          0.00027454387000819887,
          0.0002702365159793377,
          0.00026220135122778356,
          0.000257561880513249,
          0.00025251647354243177,
          0.00024791432927233044,
          0.0002456062249288647,
          0.0002375135950541302,
          0.00023426120902488983,
          0.00023310614142615495,
          0.00022264759536944816,
          0.0002196998756865522,
          0.00021572158862984914,
          0.00021428082250825187,
          0.00021191692403909373,
          0.0002077484457459398,
          0.00020550563054602745,
          0.00020060866691538158,
          0.00019774755632389867,
          0.00019546004037149237,
          0.00019198913352337288,
          0.00018756514369996645,
          0.0001852972940670775,
          0.00018354563402133746,
          0.00018047113005233576,
          0.00017971014766284885,
          0.00017635167971472672,
          0.00017368450862957304,
          0.00017282678810684856,
          0.00017135329565203344,
          0.00017059101241834572,
          0.0001693583825189437,
          0.00016743561739649998,
          0.0001642517780378923,
          0.0001626551501938215,
          0.00016213222692145672,
          0.00015938664754924667,
          0.00015910627064447044,
          0.00015762086294991468,
          0.0001572303941540518,
          0.0001553825980867172,
          0.00015340244133215294,
          0.00015272384561841598,
          0.00015149258988478846,
          0.00015051872754251854,
          0.00014960088975594511,
          0.00014737395865635947,
          0.00014715405873959122,
          0.00014644936363100708,
          0.00014602290856296623,
          0.00014555698920048642,
          0.0001444793815850972,
          0.00014368984639263324,
          0.0001421339169238503,
          0.0001410795916019058,
          0.00014044438283193953,
          0.0001397589976385346,
          0.00013904662952222855,
          0.00013839037079239983,
          0.0001378680805005122,
          0.00013672274193131067,
          0.0001361964443891248,
          0.00013541571993939088,
          0.0001344382186528719,
          0.00013386594616029166,
          0.00013293288071312016,
          0.00013253232725166252,
          0.00013211471372967488,
          0.0001311774661462659,
          0.00013060772997860627,
          0.00013030706163321288,
          0.0001291420789387688,
          0.00012899799070637853,
          0.00012750605410544904,
          0.00012740835312893497,
          0.00012701389062262948,
          0.00012656354616676814,
          0.0001254071885624375,
          0.000125137119400209,
          0.00012469149674823734,
          0.00012417167724212383,
          0.00012405491069806927,
          0.0001237714743129028,
          0.0001231217518164512,
          0.000122611351686439,
          0.00012200761882001247,
          0.00012132009043787981,
          0.0001213114355378939,
          0.00012039944237019043,
          0.00011996925048301758,
          0.00011916522490085162,
          0.00011893481403153862,
          0.00011857454353218758,
          0.0001179090244685541,
          0.00011753997930216295,
          0.00011722838992587381,
          0.00011683046430756319,
          0.0001162464719135248,
          0.00011592508513104434,
          0.00011549109423737772,
          0.0001151762454080518,
          0.0001148076717177693,
          0.00011453077248140148,
          0.00011391155674714375,
          0.00011381263626885577,
          0.00011253919571665564,
          0.00011219288327344545,
          0.00011211091109901899,
          0.000111377402330344,
          0.00011127149610800759,
          0.00011085610781022124,
          0.00011033875451672571,
          0.0001094271924036701,
          0.00010900825631826153,
          0.00010871292397967135,
          0.00010812026609234124,
          0.00010765723661360744,
          0.00010727251299166278,
          0.00010693450235003012,
          0.0001062621492369424,
          0.00010561171399240473,
          0.00010546168136249388,
          0.00010514555268495581,
          0.00010433792011987215,
          0.00010417386085372669,
          0.00010405729535370853,
          0.00010350862090199114,
          0.00010303726218002408,
          0.00010249310639239028,
          0.0001021598269779543,
          0.00010158568648091417,
          0.00010148665120023834,
          0.00010105983810637407,
          0.00010050976328627111,
          0.00010023239329928993,
          9.996282209300003e-05,
          9.974609729611584e-05,
          9.953444238795217e-05,
          9.888070132489105e-05,
          9.878607711242464e-05,
          9.84936263796002e-05,
          9.821708098277448e-05,
          9.788338801718405e-05,
          9.734648319022656e-05,
          9.710174821839052e-05,
          9.678757898876479e-05,
          9.650399501278486e-05,
          9.621861104562498e-05,
          9.606258700050378e-05,
          9.551690007014543e-05,
          9.526786736476068e-05,
          9.523781354936844e-05,
          9.475954688830991e-05,
          9.4293127870637e-05,
          9.399896730832176e-05,
          9.355102623932583e-05,
          9.303852992482775e-05,
          9.270768086511957e-05,
          9.243565852021216e-05,
          9.21453776497823e-05,
          9.195427004385733e-05,
          9.101667672831451e-05,
          9.070243229171485e-05,
          9.05876045260526e-05,
          9.032818565540612e-05,
          8.968099188792304e-05,
          8.941454363821566e-05,
          8.917490527000274e-05,
          8.887681534537038e-05,
          8.852350625698924e-05,
          8.801933229973997e-05,
          8.774751492833494e-05,
          8.728678921763366e-05,
          8.679389575379009e-05,
          8.625108209958996e-05,
          8.597999155235796e-05,
          8.569224840894541e-05,
          8.521842730152353e-05,
          8.46488415233491e-05,
          8.455104115837e-05,
          8.41656916089087e-05,
          8.373452169438362e-05,
          8.323751380693331e-05,
          8.315844320955779e-05,
          8.290901632916468e-05,
          8.271440095805943e-05,
          8.254870167943631e-05,
          8.236035551781253e-05,
          8.17055430806329e-05,
          8.126087697598542e-05,
          8.06878589420254e-05,
          8.052732363859197e-05,
          7.982836907888988e-05,
          7.973575589882226e-05,
          7.937769226150571e-05,
          7.921957165103598e-05,
          7.904848783172167e-05,
          7.82062832518547e-05,
          7.818079928632334e-05,
          7.760373162510126e-05,
          7.736247105485709e-05,
          7.676549497466342e-05,
          7.655702941043121e-05,
          7.62321185975813e-05,
          7.606621316422904e-05,
          7.577722318696623e-05,
          7.533753698027757e-05,
          7.509222207661742e-05,
          7.458715483715003e-05,
          7.456463355634043e-05,
          7.390133556900755e-05,
          7.364463534494675e-05,
          7.303617975686873e-05,
          7.249624523493196e-05,
          7.233980552958791e-05,
          7.20180382559383e-05,
          7.18307150318319e-05,
          7.160124255530528e-05,
          7.12003471483876e-05,
          7.098591846433879e-05,
          7.071627861859866e-05,
          7.031433257494674e-05,
          7.022202985790533e-05,
          6.990689004830691e-05,
          6.938832028985167e-05,
          6.890409873544369e-05,
          6.875996529480348e-05,
          6.87184438414182e-05,
          6.830437305927999e-05,
          6.792437752356115e-05,
          6.78518547276333e-05,
          6.750356385720769e-05,
          6.714140599716978e-05,
          6.699178438027064e-05,
          6.683085422651297e-05,
          6.641442211170753e-05,
          6.636923078764942e-05,
          6.609978741394601e-05,
          6.583970613645991e-05,
          6.565135834986364e-05,
          6.533209667859601e-05,
          6.50488511086273e-05,
          6.465117822126578e-05,
          6.444419048002984e-05,
          6.43213323574448e-05,
          6.414361456967202e-05,
          6.37398309290461e-05,
          6.339836132994053e-05,
          6.329933822033122e-05,
          6.304565456855774e-05,
          6.27445431829651e-05,
          6.231978169383615e-05,
          6.210202645538463e-05,
          6.191438866819899e-05,
          6.178543532937746e-05,
          6.134783259521895e-05,
          6.126016304938266e-05,
          6.059902545463106e-05,
          6.0306658170545816e-05,
          6.004445377071202e-05,
          5.996937701124593e-05,
          5.9829321572464464e-05,
          5.9803440740709076e-05,
          5.9329909068024505e-05,
          5.914750116417382e-05,
          5.880759449653659e-05,
          5.87557706768284e-05,
          5.8490953606669857e-05,
          5.8143272208666444e-05,
          5.7979001435607054e-05,
          5.764995029392317e-05,
          5.7634314083916126e-05,
          5.74468969106785e-05,
          5.7330285262431354e-05,
          5.6890570009632254e-05,
          5.6693682636782076e-05,
          5.643229255847321e-05,
          5.6330018001452655e-05,
          5.599792253927948e-05,
          5.5652490059746745e-05,
          5.5549404580587585e-05,
          5.537879619375155e-05,
          5.523650663336354e-05,
          5.5120512012501625e-05,
          5.488985442034128e-05,
          5.4533182399046416e-05,
          5.4237697738570334e-05,
          5.3949475596258314e-05,
          5.383708648537477e-05,
          5.370440042948084e-05,
          5.358562599025409e-05,
          5.3191369955264495e-05,
          5.3117941704455754e-05,
          5.2892523911912525e-05,
          5.2572820452559174e-05,
          5.2411281281948705e-05,
          5.217960278582877e-05,
          5.204689925437134e-05,
          5.1680568052964184e-05,
          5.166792761754211e-05,
          5.153333024931959e-05,
          5.102910680209845e-05,
          5.087689131062564e-05,
          5.074685101033263e-05,
          5.037750441993127e-05,
          5.020144110351342e-05,
          5.0129983285761144e-05,
          4.9823425284606394e-05,
          4.965946171057264e-05,
          4.958319278932273e-05,
          4.949437579182483e-05,
          4.936660012641736e-05,
          4.9201182343257666e-05,
          4.894089819820878e-05,
          4.866332541053296e-05,
          4.8650789089382625e-05,
          4.846028360414579e-05,
          4.832980637362657e-05,
          4.8228740186347605e-05,
          4.821133326305467e-05,
          4.797685388210614e-05,
          4.7787094169737616e-05,
          4.757322461552134e-05,
          4.7384649257745906e-05,
          4.725993405132208e-05,
          4.6992537842470966e-05,
          4.6798860473117856e-05,
          4.658393876384926e-05,
          4.649074941581175e-05,
          4.611703512338336e-05,
          4.601642032521528e-05,
          4.582699359185423e-05,
          4.5665656443142246e-05,
          4.549823678470651e-05,
          4.5454213653843785e-05,
          4.528886830317216e-05,
          4.522834138606465e-05,
          4.495162580953975e-05,
          4.485563413542891e-05,
          4.472860088920014e-05,
          4.464704179702217e-05,
          4.453028550572968e-05,
          4.4337287372178726e-05,
          4.4311520849367925e-05,
          4.399119134898151e-05,
          4.3927445859077775e-05,
          4.363848787119402e-05,
          4.35586265499344e-05,
          4.3434443790739886e-05,
          4.3213542838604e-05,
          4.313906182156678e-05,
          4.298438976141613e-05,
          4.296498512754696e-05,
          4.274831083976919e-05,
          4.265156296874815e-05,
          4.244829892312015e-05,
          4.235146269628158e-05,
          4.2321914605918877e-05,
          4.219073234158571e-05,
          4.200333943963304e-05,
          4.176956414031352e-05,
          4.1596841057806455e-05,
          4.1512460791775984e-05,
          4.144357133310435e-05,
          4.127442413818149e-05,
          4.117572993488339e-05,
          4.1068481484026843e-05,
          4.0999600643833436e-05,
          4.080698994078806e-05,
          4.066388240737796e-05,
          4.060024738160223e-05,
          4.037916110635269e-05,
          4.031385003202656e-05,
          4.014996827223391e-05,
          3.996330152874771e-05,
          3.984786200418015e-05,
          3.979973051468333e-05,
          3.974042233564445e-05,
          3.9693955082785714e-05,
          3.952838142801165e-05,
          3.9369887274755684e-05,
          3.926018262536963e-05,
          3.916834699736247e-05,
          3.907386433008987e-05,
          3.9027129487496386e-05,
          3.894967523905615e-05,
          3.872166217671605e-05,
          3.868941585797211e-05,
          3.841616921425216e-05,
          3.8374760775849885e-05,
          3.8174529988629484e-05,
          3.813318444027312e-05,
          3.794495754938727e-05,
          3.790412868642183e-05,
          3.7781814197922255e-05,
          3.774396190237472e-05,
          3.755236076154237e-05,
          3.748138318043614e-05,
          3.738369835597638e-05,
          3.728491223994469e-05,
          3.6978362271312345e-05,
          3.694714034984868e-05,
          3.6892441323244115e-05,
          3.6841009720643136e-05,
          3.674531161379376e-05,
          3.666814143449085e-05,
          3.655724282902818e-05,
          3.648608406609839e-05,
          3.632097420743408e-05,
          3.6193588332469735e-05,
          3.6132637057609945e-05,
          3.601217800983248e-05,
          3.5929514549102986e-05,
          3.5777365698983757e-05,
          3.567522163752628e-05,
          3.5550438148304486e-05,
          3.552139867011661e-05,
          3.537498027955952e-05,
          3.524654620045988e-05,
          3.5135089359561785e-05,
          3.5037641629171096e-05,
          3.49447584693141e-05,
          3.4782398302868186e-05,
          3.477163593595947e-05,
          3.4697405942599715e-05,
          3.454422049217712e-05,
          3.439338208997654e-05,
          3.435060383363048e-05,
          3.427833093272027e-05,
          3.4235391835268035e-05,
          3.407026531668005e-05,
          3.376954252082051e-05,
          3.373695701977071e-05,
          3.3670577235197136e-05,
          3.3622152887689824e-05,
          3.3393814194867224e-05,
          3.330968363908428e-05,
          3.3241943077218765e-05,
          3.306148610323209e-05,
          3.297332599195494e-05,
          3.285445480230011e-05,
          3.277636979869861e-05,
          3.271836212465412e-05,
          3.2628124017031175e-05,
          3.24255851172255e-05,
          3.23184912870403e-05,
          3.225371650943731e-05,
          3.224416167627563e-05,
          3.210846045738465e-05,
          3.2042650594550654e-05,
          3.2000362399855234e-05,
          3.1929049614192494e-05,
          3.17291190286314e-05,
          3.166348310029048e-05,
          3.161166954525087e-05,
          3.153181222939851e-05,
          3.1459501562124906e-05,
          3.1359077131015044e-05,
          3.1285033931981976e-05,
          3.106539725325025e-05,
          3.095073489964702e-05,
          3.090942668136192e-05,
          3.083060036063125e-05,
          3.0753862563500906e-05,
          3.0714225014098186e-05,
          3.057441207589804e-05,
          3.0480560505604596e-05,
          3.0373980472090557e-05,
          3.0340438494280583e-05,
          3.0315703031711348e-05,
          3.0134180846911837e-05,
          3.010146959084164e-05,
          3.0006594964354097e-05,
          2.9776273397074014e-05,
          2.968166782437228e-05,
          2.963872088276747e-05,
          2.956105350486154e-05,
          2.9481676124799073e-05,
          2.9388394007570636e-05,
          2.9276959060756242e-05,
          2.91125888829224e-05,
          2.900454754131565e-05,
          2.8938882833686384e-05,
          2.8779502373588072e-05,
          2.874149757872043e-05,
          2.8685828367975218e-05,
          2.8515256774185377e-05,
          2.846169152570838e-05,
          2.834215928887853e-05,
          2.830544305168816e-05,
          2.816420690440926e-05,
          2.8086280509836135e-05,
          2.797549270383892e-05,
          2.7952506250320984e-05,
          2.7858034289598982e-05,
          2.7761079008818162e-05,
          2.7672687734703288e-05,
          2.7597378666379486e-05,
          2.7497988291676863e-05,
          2.7489596604721047e-05,
          2.73714793308989e-05,
          2.729121859194416e-05,
          2.709577638865692e-05,
          2.6957013867029683e-05,
          2.6875512424596783e-05,
          2.677916623645179e-05,
          2.6702555488704754e-05,
          2.6683067070089342e-05,
          2.652412226605346e-05,
          2.6447982470789578e-05,
          2.6263335117109487e-05,
          2.6180488601116824e-05,
          2.6099185485732573e-05,
          2.599736844579138e-05,
          2.5954133942046384e-05,
          2.5807028513637898e-05,
          2.5771027303023938e-05,
          2.56943321251245e-05,
          2.556719781479366e-05,
          2.5477062697930757e-05,
          2.538149751193014e-05,
          2.533746962898623e-05,
          2.526968812610058e-05,
          2.514202228733402e-05,
          2.5035154841416727e-05,
          2.5016657227314725e-05,
          2.485920522821438e-05,
          2.4804547775031916e-05,
          2.4793386414315494e-05,
          2.4622155016576492e-05,
          2.4411110545294517e-05,
          2.43014150131646e-05,
          2.423981732329499e-05,
          2.415713991071656e-05,
          2.412116894790862e-05,
          2.3969940776640113e-05,
          2.390961888223706e-05,
          2.3840390419446435e-05,
          2.3760712370635784e-05,
          2.3636437816683273e-05,
          2.3565243000681655e-05,
          2.3425974402772428e-05,
          2.3355043886748283e-05,
          2.315916821707986e-05,
          2.3122628557664816e-05,
          2.3021109916212066e-05,
          2.291860180130903e-05,
          2.2883652467124472e-05,
          2.281560851655919e-05,
          2.2784952169887123e-05,
          2.271054651549032e-05,
          2.264037702487917e-05,
          2.252593697278255e-05,
          2.2451220919614307e-05,
          2.2392047185720756e-05,
          2.2204949085279906e-05,
          2.212823543056391e-05,
          2.2046011336029943e-05,
          2.1998321779289414e-05,
          2.1950076641035876e-05,
          2.176458808117623e-05,
          2.167798826963733e-05,
          2.1648068769457712e-05,
          2.1456954129307286e-05,
          2.1433396827662675e-05,
          2.1407748175368827e-05,
          2.132081931129371e-05,
          2.1265037498209115e-05,
          2.1189826977749812e-05,
          2.1087428088227837e-05,
          2.1013756364586187e-05,
          2.0924725873488227e-05,
          2.0784567286576193e-05,
          2.0680519289564256e-05,
          2.060555683032342e-05,
          2.0565586361166426e-05,
          2.049163997317098e-05,
          2.0374965162857827e-05,
          2.0282431490631013e-05,
          2.022173675885097e-05,
          2.0007485192807382e-05,
          1.99675035369801e-05,
          1.9938786722830847e-05,
          1.9922738866972542e-05,
          1.9843587754188096e-05,
          1.974621797726612e-05,
          1.968380164652906e-05,
          1.964224214059545e-05,
          1.945650831973535e-05,
          1.9429153096695372e-05,
          1.9426616651187724e-05,
          1.9266837137155167e-05,
          1.9148872526745964e-05,
          1.906872397816353e-05,
          1.9036360394180118e-05,
          1.898116215669054e-05,
          1.891842570912094e-05,
          1.883377535939808e-05,
          1.8809195554118975e-05,
          1.863146908591906e-05,
          1.861406607195104e-05,
          1.850080358400831e-05,
          1.836268813946554e-05,
          1.8340253942788107e-05,
          1.822797373849543e-05,
          1.8193918991194585e-05,
          1.8090867111330717e-05,
          1.8063765799508533e-05,
          1.8037549997115146e-05,
          1.7985563964775258e-05,
          1.789282618049445e-05,
          1.7764880689473965e-05,
          1.7709711396958888e-05,
          1.763052078726358e-05,
          1.7567360998096673e-05,
          1.7478255350631696e-05,
          1.7437017377814414e-05,
          1.7346087933507497e-05,
          1.7281656889740708e-05,
          1.7207367789144402e-05,
          1.7138825806341794e-05,
          1.703258143291976e-05,
          1.699427443463419e-05,
          1.694226320124419e-05,
          1.683529213438529e-05,
          1.6757721806749867e-05,
          1.669676313282561e-05,
          1.6607083486866348e-05,
          1.6557065252119914e-05,
          1.6522902912115157e-05,
          1.635596790788227e-05,
          1.632847738611083e-05,
          1.6245503361479845e-05,
          1.6223990518393524e-05,
          1.6102786185049868e-05,
          1.604326065507745e-05,
          1.5904595785789612e-05,
          1.584133921494402e-05,
          1.5798324901666166e-05,
          1.5687426985179358e-05,
          1.5658400178926097e-05,
          1.5608466594139167e-05,
          1.5513987770198624e-05,
          1.5421731137107197e-05,
          1.540214969053859e-05,
          1.5347172454549336e-05,
          1.5304724574294713e-05,
          1.5225037253268901e-05,
          1.5174131467736837e-05,
          1.5129089568072848e-05,
          1.5066256038378922e-05,
          1.5034969660824488e-05,
          1.4892527605421885e-05,
          1.4823674155390051e-05,
          1.481080482137553e-05,
          1.4671909441394194e-05,
          1.466011159613279e-05,
          1.457942602792233e-05,
          1.4516810618816994e-05,
          1.4466906421274654e-05,
          1.4424625953537478e-05,
          1.4400089366721898e-05,
          1.4333570014952619e-05,
          1.4191462067144436e-05,
          1.4159120020697104e-05,
          1.4104267922586912e-05,
          1.406083066871881e-05,
          1.3980031800030128e-05,
          1.3952851014521649e-05,
          1.3942003225545678e-05,
          1.3861215133289472e-05,
          1.3787706627863226e-05,
          1.3698722383670138e-05,
          1.3631652564711161e-05,
          1.3580696383147155e-05,
          1.3502875342972201e-05,
          1.3409081001283629e-05,
          1.3389049606582886e-05,
          1.3317032498853287e-05,
          1.3196923158371741e-05,
          1.3174605462869244e-05,
          1.3104836772133875e-05,
          1.3093281757605035e-05,
          1.3030727701298085e-05,
          1.3005837684013648e-05,
          1.2906685553420706e-05,
          1.281844060000038e-05,
          1.2749934180576988e-05,
          1.264957532857322e-05,
          1.2597030292119719e-05,
          1.2496332110956463e-05,
          1.2469714215956263e-05,
          1.2421352000824339e-05,
          1.2397015405895911e-05,
          1.2304909560405498e-05,
          1.228491807719201e-05,
          1.221177187683758e-05,
          1.2151090855441119e-05,
          1.2046573745308134e-05,
          1.2016572650340566e-05,
          1.1943352117888663e-05,
          1.1849180666428494e-05,
          1.1753165107338286e-05,
          1.1716939201451551e-05,
          1.1669258074335903e-05,
          1.162697091125464e-05,
          1.1571649396248716e-05,
          1.1524123391276622e-05,
          1.1385719303944523e-05,
          1.1270349695033768e-05,
          1.1205225876238673e-05,
          1.11526846216259e-05,
          1.1124943724658953e-05,
          1.1097644754704292e-05,
          1.1058400380138694e-05,
          1.0988561457502878e-05,
          1.0883641020084563e-05,
          1.0764622004612635e-05,
          1.072998746329903e-05,
          1.0678188217109528e-05,
          1.0572224122240652e-05,
          1.0516398858435106e-05,
          1.0472019335898797e-05,
          1.0405758010611627e-05,
          1.035312897376369e-05,
          1.0310471873225283e-05,
          1.0268517875928677e-05,
          1.0241109525019095e-05,
          1.0042797411024784e-05,
          1.0012556594077792e-05,
          9.985987315291047e-06,
          9.887707516605533e-06,
          9.847861070767183e-06,
          9.771934801817483e-06,
          9.706066234048043e-06,
          9.658008521798703e-06,
          9.565833126673578e-06,
          9.492189104103209e-06,
          9.458982339483866e-06,
          9.427452294349144e-06,
          9.384722701916529e-06,
          9.34066797685213e-06,
          9.260660193378665e-06,
          9.187047214258767e-06,
          9.127945688588888e-06,
          9.06124321716335e-06,
          9.00542502801541e-06,
          8.96484544173085e-06,
          8.880679962137925e-06,
          8.828395831205201e-06,
          8.820343709322942e-06,
          8.772288607518148e-06,
          8.706517861603425e-06,
          8.655882740550904e-06,
          8.599583612669685e-06,
          8.568425195944427e-06,
          8.53496937181055e-06,
          8.464096272138716e-06,
          8.421506158712599e-06,
          8.381970192251185e-06,
          8.30040523446874e-06,
          8.260452558974677e-06,
          8.231602771519499e-06,
          8.146602319287897e-06,
          8.10400207121715e-06,
          8.063696545846738e-06,
          7.964526744735327e-06,
          7.918564184417332e-06,
          7.891674706884073e-06,
          7.769335585948537e-06,
          7.704109644958104e-06,
          7.633712216306503e-06,
          7.578197405888695e-06,
          7.485956616954877e-06,
          7.470517764643321e-06,
          7.370860775297145e-06,
          7.347556770182413e-06,
          7.267640301526302e-06,
          7.253258980103173e-06,
          7.135493154754442e-06,
          7.07237288821479e-06,
          7.032620822104241e-06,
          6.88022848119497e-06,
          6.817515136026761e-06,
          6.766814179627699e-06,
          6.64653454747445e-06,
          6.590196900690896e-06,
          6.49069757364125e-06,
          6.442796505633563e-06,
          6.397143347929478e-06,
          6.3633392187506324e-06,
          6.270072805590355e-06,
          6.136803589272942e-06,
          6.086841649692193e-06,
          6.064528306389513e-06,
          6.06322471776412e-06,
          5.975065369994906e-06,
          5.855870176314302e-06,
          5.8151654803291764e-06,
          5.679510898352606e-06,
          5.604037586185322e-06,
          5.531017737168259e-06,
          5.4847767846608475e-06,
          5.425679185110084e-06,
          5.342801882530338e-06,
          5.2049519718347676e-06,
          5.0379326072381085e-06,
          4.940043549369183e-06,
          4.898780253949846e-06,
          4.699526115029073e-06,
          4.473590487693853e-06,
          4.1671019189176914e-06,
          3.93919668820952e-06,
          3.867295433363178e-06,
          3.7794458551617674e-06,
          3.476823459372713e-06,
          3.436270057497358e-06,
          3.2899152203662848e-06,
          3.2009008924618735e-06,
          2.9764830385085652e-06,
          2.77958047665572e-06,
          2.663196674057714e-06,
          2.4941377968784103e-06,
          2.335110710881974e-06,
          2.1510828198018574e-06,
          1.992695337045408e-06
         ],
         "yaxis": "y"
        }
       ],
       "layout": {
        "barmode": "relative",
        "height": 600,
        "legend": {
         "tracegroupgap": 0
        },
        "margin": {
         "t": 60
        },
        "template": {
         "data": {
          "bar": [
           {
            "error_x": {
             "color": "#2a3f5f"
            },
            "error_y": {
             "color": "#2a3f5f"
            },
            "marker": {
             "line": {
              "color": "#E5ECF6",
              "width": 0.5
             }
            },
            "type": "bar"
           }
          ],
          "barpolar": [
           {
            "marker": {
             "line": {
              "color": "#E5ECF6",
              "width": 0.5
             }
            },
            "type": "barpolar"
           }
          ],
          "carpet": [
           {
            "aaxis": {
             "endlinecolor": "#2a3f5f",
             "gridcolor": "white",
             "linecolor": "white",
             "minorgridcolor": "white",
             "startlinecolor": "#2a3f5f"
            },
            "baxis": {
             "endlinecolor": "#2a3f5f",
             "gridcolor": "white",
             "linecolor": "white",
             "minorgridcolor": "white",
             "startlinecolor": "#2a3f5f"
            },
            "type": "carpet"
           }
          ],
          "choropleth": [
           {
            "colorbar": {
             "outlinewidth": 0,
             "ticks": ""
            },
            "type": "choropleth"
           }
          ],
          "contour": [
           {
            "colorbar": {
             "outlinewidth": 0,
             "ticks": ""
            },
            "colorscale": [
             [
              0,
              "#0d0887"
             ],
             [
              0.1111111111111111,
              "#46039f"
             ],
             [
              0.2222222222222222,
              "#7201a8"
             ],
             [
              0.3333333333333333,
              "#9c179e"
             ],
             [
              0.4444444444444444,
              "#bd3786"
             ],
             [
              0.5555555555555556,
              "#d8576b"
             ],
             [
              0.6666666666666666,
              "#ed7953"
             ],
             [
              0.7777777777777778,
              "#fb9f3a"
             ],
             [
              0.8888888888888888,
              "#fdca26"
             ],
             [
              1,
              "#f0f921"
             ]
            ],
            "type": "contour"
           }
          ],
          "contourcarpet": [
           {
            "colorbar": {
             "outlinewidth": 0,
             "ticks": ""
            },
            "type": "contourcarpet"
           }
          ],
          "heatmap": [
           {
            "colorbar": {
             "outlinewidth": 0,
             "ticks": ""
            },
            "colorscale": [
             [
              0,
              "#0d0887"
             ],
             [
              0.1111111111111111,
              "#46039f"
             ],
             [
              0.2222222222222222,
              "#7201a8"
             ],
             [
              0.3333333333333333,
              "#9c179e"
             ],
             [
              0.4444444444444444,
              "#bd3786"
             ],
             [
              0.5555555555555556,
              "#d8576b"
             ],
             [
              0.6666666666666666,
              "#ed7953"
             ],
             [
              0.7777777777777778,
              "#fb9f3a"
             ],
             [
              0.8888888888888888,
              "#fdca26"
             ],
             [
              1,
              "#f0f921"
             ]
            ],
            "type": "heatmap"
           }
          ],
          "heatmapgl": [
           {
            "colorbar": {
             "outlinewidth": 0,
             "ticks": ""
            },
            "colorscale": [
             [
              0,
              "#0d0887"
             ],
             [
              0.1111111111111111,
              "#46039f"
             ],
             [
              0.2222222222222222,
              "#7201a8"
             ],
             [
              0.3333333333333333,
              "#9c179e"
             ],
             [
              0.4444444444444444,
              "#bd3786"
             ],
             [
              0.5555555555555556,
              "#d8576b"
             ],
             [
              0.6666666666666666,
              "#ed7953"
             ],
             [
              0.7777777777777778,
              "#fb9f3a"
             ],
             [
              0.8888888888888888,
              "#fdca26"
             ],
             [
              1,
              "#f0f921"
             ]
            ],
            "type": "heatmapgl"
           }
          ],
          "histogram": [
           {
            "marker": {
             "colorbar": {
              "outlinewidth": 0,
              "ticks": ""
             }
            },
            "type": "histogram"
           }
          ],
          "histogram2d": [
           {
            "colorbar": {
             "outlinewidth": 0,
             "ticks": ""
            },
            "colorscale": [
             [
              0,
              "#0d0887"
             ],
             [
              0.1111111111111111,
              "#46039f"
             ],
             [
              0.2222222222222222,
              "#7201a8"
             ],
             [
              0.3333333333333333,
              "#9c179e"
             ],
             [
              0.4444444444444444,
              "#bd3786"
             ],
             [
              0.5555555555555556,
              "#d8576b"
             ],
             [
              0.6666666666666666,
              "#ed7953"
             ],
             [
              0.7777777777777778,
              "#fb9f3a"
             ],
             [
              0.8888888888888888,
              "#fdca26"
             ],
             [
              1,
              "#f0f921"
             ]
            ],
            "type": "histogram2d"
           }
          ],
          "histogram2dcontour": [
           {
            "colorbar": {
             "outlinewidth": 0,
             "ticks": ""
            },
            "colorscale": [
             [
              0,
              "#0d0887"
             ],
             [
              0.1111111111111111,
              "#46039f"
             ],
             [
              0.2222222222222222,
              "#7201a8"
             ],
             [
              0.3333333333333333,
              "#9c179e"
             ],
             [
              0.4444444444444444,
              "#bd3786"
             ],
             [
              0.5555555555555556,
              "#d8576b"
             ],
             [
              0.6666666666666666,
              "#ed7953"
             ],
             [
              0.7777777777777778,
              "#fb9f3a"
             ],
             [
              0.8888888888888888,
              "#fdca26"
             ],
             [
              1,
              "#f0f921"
             ]
            ],
            "type": "histogram2dcontour"
           }
          ],
          "mesh3d": [
           {
            "colorbar": {
             "outlinewidth": 0,
             "ticks": ""
            },
            "type": "mesh3d"
           }
          ],
          "parcoords": [
           {
            "line": {
             "colorbar": {
              "outlinewidth": 0,
              "ticks": ""
             }
            },
            "type": "parcoords"
           }
          ],
          "scatter": [
           {
            "marker": {
             "colorbar": {
              "outlinewidth": 0,
              "ticks": ""
             }
            },
            "type": "scatter"
           }
          ],
          "scatter3d": [
           {
            "line": {
             "colorbar": {
              "outlinewidth": 0,
              "ticks": ""
             }
            },
            "marker": {
             "colorbar": {
              "outlinewidth": 0,
              "ticks": ""
             }
            },
            "type": "scatter3d"
           }
          ],
          "scattercarpet": [
           {
            "marker": {
             "colorbar": {
              "outlinewidth": 0,
              "ticks": ""
             }
            },
            "type": "scattercarpet"
           }
          ],
          "scattergeo": [
           {
            "marker": {
             "colorbar": {
              "outlinewidth": 0,
              "ticks": ""
             }
            },
            "type": "scattergeo"
           }
          ],
          "scattergl": [
           {
            "marker": {
             "colorbar": {
              "outlinewidth": 0,
              "ticks": ""
             }
            },
            "type": "scattergl"
           }
          ],
          "scattermapbox": [
           {
            "marker": {
             "colorbar": {
              "outlinewidth": 0,
              "ticks": ""
             }
            },
            "type": "scattermapbox"
           }
          ],
          "scatterpolar": [
           {
            "marker": {
             "colorbar": {
              "outlinewidth": 0,
              "ticks": ""
             }
            },
            "type": "scatterpolar"
           }
          ],
          "scatterpolargl": [
           {
            "marker": {
             "colorbar": {
              "outlinewidth": 0,
              "ticks": ""
             }
            },
            "type": "scatterpolargl"
           }
          ],
          "scatterternary": [
           {
            "marker": {
             "colorbar": {
              "outlinewidth": 0,
              "ticks": ""
             }
            },
            "type": "scatterternary"
           }
          ],
          "surface": [
           {
            "colorbar": {
             "outlinewidth": 0,
             "ticks": ""
            },
            "colorscale": [
             [
              0,
              "#0d0887"
             ],
             [
              0.1111111111111111,
              "#46039f"
             ],
             [
              0.2222222222222222,
              "#7201a8"
             ],
             [
              0.3333333333333333,
              "#9c179e"
             ],
             [
              0.4444444444444444,
              "#bd3786"
             ],
             [
              0.5555555555555556,
              "#d8576b"
             ],
             [
              0.6666666666666666,
              "#ed7953"
             ],
             [
              0.7777777777777778,
              "#fb9f3a"
             ],
             [
              0.8888888888888888,
              "#fdca26"
             ],
             [
              1,
              "#f0f921"
             ]
            ],
            "type": "surface"
           }
          ],
          "table": [
           {
            "cells": {
             "fill": {
              "color": "#EBF0F8"
             },
             "line": {
              "color": "white"
             }
            },
            "header": {
             "fill": {
              "color": "#C8D4E3"
             },
             "line": {
              "color": "white"
             }
            },
            "type": "table"
           }
          ]
         },
         "layout": {
          "annotationdefaults": {
           "arrowcolor": "#2a3f5f",
           "arrowhead": 0,
           "arrowwidth": 1
          },
          "colorscale": {
           "diverging": [
            [
             0,
             "#8e0152"
            ],
            [
             0.1,
             "#c51b7d"
            ],
            [
             0.2,
             "#de77ae"
            ],
            [
             0.3,
             "#f1b6da"
            ],
            [
             0.4,
             "#fde0ef"
            ],
            [
             0.5,
             "#f7f7f7"
            ],
            [
             0.6,
             "#e6f5d0"
            ],
            [
             0.7,
             "#b8e186"
            ],
            [
             0.8,
             "#7fbc41"
            ],
            [
             0.9,
             "#4d9221"
            ],
            [
             1,
             "#276419"
            ]
           ],
           "sequential": [
            [
             0,
             "#0d0887"
            ],
            [
             0.1111111111111111,
             "#46039f"
            ],
            [
             0.2222222222222222,
             "#7201a8"
            ],
            [
             0.3333333333333333,
             "#9c179e"
            ],
            [
             0.4444444444444444,
             "#bd3786"
            ],
            [
             0.5555555555555556,
             "#d8576b"
            ],
            [
             0.6666666666666666,
             "#ed7953"
            ],
            [
             0.7777777777777778,
             "#fb9f3a"
            ],
            [
             0.8888888888888888,
             "#fdca26"
            ],
            [
             1,
             "#f0f921"
            ]
           ],
           "sequentialminus": [
            [
             0,
             "#0d0887"
            ],
            [
             0.1111111111111111,
             "#46039f"
            ],
            [
             0.2222222222222222,
             "#7201a8"
            ],
            [
             0.3333333333333333,
             "#9c179e"
            ],
            [
             0.4444444444444444,
             "#bd3786"
            ],
            [
             0.5555555555555556,
             "#d8576b"
            ],
            [
             0.6666666666666666,
             "#ed7953"
            ],
            [
             0.7777777777777778,
             "#fb9f3a"
            ],
            [
             0.8888888888888888,
             "#fdca26"
            ],
            [
             1,
             "#f0f921"
            ]
           ]
          },
          "colorway": [
           "#636efa",
           "#EF553B",
           "#00cc96",
           "#ab63fa",
           "#FFA15A",
           "#19d3f3",
           "#FF6692",
           "#B6E880",
           "#FF97FF",
           "#FECB52"
          ],
          "font": {
           "color": "#2a3f5f"
          },
          "geo": {
           "bgcolor": "white",
           "lakecolor": "white",
           "landcolor": "#E5ECF6",
           "showlakes": true,
           "showland": true,
           "subunitcolor": "white"
          },
          "hoverlabel": {
           "align": "left"
          },
          "hovermode": "closest",
          "mapbox": {
           "style": "light"
          },
          "paper_bgcolor": "white",
          "plot_bgcolor": "#E5ECF6",
          "polar": {
           "angularaxis": {
            "gridcolor": "white",
            "linecolor": "white",
            "ticks": ""
           },
           "bgcolor": "#E5ECF6",
           "radialaxis": {
            "gridcolor": "white",
            "linecolor": "white",
            "ticks": ""
           }
          },
          "scene": {
           "xaxis": {
            "backgroundcolor": "#E5ECF6",
            "gridcolor": "white",
            "gridwidth": 2,
            "linecolor": "white",
            "showbackground": true,
            "ticks": "",
            "zerolinecolor": "white"
           },
           "yaxis": {
            "backgroundcolor": "#E5ECF6",
            "gridcolor": "white",
            "gridwidth": 2,
            "linecolor": "white",
            "showbackground": true,
            "ticks": "",
            "zerolinecolor": "white"
           },
           "zaxis": {
            "backgroundcolor": "#E5ECF6",
            "gridcolor": "white",
            "gridwidth": 2,
            "linecolor": "white",
            "showbackground": true,
            "ticks": "",
            "zerolinecolor": "white"
           }
          },
          "shapedefaults": {
           "line": {
            "color": "#2a3f5f"
           }
          },
          "ternary": {
           "aaxis": {
            "gridcolor": "white",
            "linecolor": "white",
            "ticks": ""
           },
           "baxis": {
            "gridcolor": "white",
            "linecolor": "white",
            "ticks": ""
           },
           "bgcolor": "#E5ECF6",
           "caxis": {
            "gridcolor": "white",
            "linecolor": "white",
            "ticks": ""
           }
          },
          "title": {
           "x": 0.05
          },
          "xaxis": {
           "automargin": true,
           "gridcolor": "white",
           "linecolor": "white",
           "ticks": "",
           "zerolinecolor": "white",
           "zerolinewidth": 2
          },
          "yaxis": {
           "automargin": true,
           "gridcolor": "white",
           "linecolor": "white",
           "ticks": "",
           "zerolinecolor": "white",
           "zerolinewidth": 2
          }
         }
        },
        "xaxis": {
         "anchor": "y",
         "domain": [
          0,
          0.98
         ],
         "title": {
          "text": "col variable"
         }
        },
        "yaxis": {
         "anchor": "x",
         "domain": [
          0,
          1
         ],
         "title": {
          "text": "variance explained"
         }
        }
       }
      },
      "text/html": [
       "<div>\n",
       "        \n",
       "        \n",
       "            <div id=\"ddc12fb4-62de-4958-bff5-04de5769b78c\" class=\"plotly-graph-div\" style=\"height:600px; width:100%;\"></div>\n",
       "            <script type=\"text/javascript\">\n",
       "                require([\"plotly\"], function(Plotly) {\n",
       "                    window.PLOTLYENV=window.PLOTLYENV || {};\n",
       "                    \n",
       "                if (document.getElementById(\"ddc12fb4-62de-4958-bff5-04de5769b78c\")) {\n",
       "                    Plotly.newPlot(\n",
       "                        'ddc12fb4-62de-4958-bff5-04de5769b78c',\n",
       "                        [{\"alignmentgroup\": \"True\", \"hoverlabel\": {\"namelength\": 0}, \"hovertemplate\": \"col variable=%{x}<br>variance explained=%{y}\", \"legendgroup\": \"\", \"marker\": {\"color\": \"#636efa\"}, \"name\": \"\", \"offsetgroup\": \"\", \"orientation\": \"v\", \"showlegend\": false, \"textposition\": \"auto\", \"type\": \"bar\", \"x\": [\"1674120023_B;1000\", \"1674120023_F;1000\", \"1674120053_B;1000\", \"1674120053_C;1000\", \"1674120078_A;1000\", \"1674120078_F;1000\", \"1674120079_D;1000\", \"1674120079_E;1000\", \"1674120084_B;1000\", \"1674120084_D;1000\", \"1674120085_A;1000\", \"1674120085_B;1000\", \"1674120108_C;1000\", \"1674120108_F;1000\", \"1714460289_B;1000\", \"1714460297_B;1000\", \"1714460297_D;1000\", \"1714460297_F;1000\", \"3998755167_A;6612\", \"3998755167_D;6612\", \"3998755167_F;6612\", \"3998755167_G;6612\", \"3998755167_H;6612\", \"3998755167_I;6612\", \"3998755167_J;6612\", \"3998755167_K;6612\", \"3998755170_B;6612\", \"3998755170_C;6612\", \"3998755170_D;6612\", \"3998755170_E;6612\", \"3998755170_F;6612\", \"3998755170_G;6612\", \"3998755170_H;6612\", \"3998755170_I;6612\", \"3998755170_J;6612\", \"3998755170_K;6612\", \"3998755170_L;6612\", \"5645810031_J;6646\", \"5645810032_K;6646\", \"5645810046_J;6646\", \"5645810051_J;6646\", \"5645810059_B;6646\", \"5645810059_L;6646\", \"5655508009_H;6646\", \"5655508016_H;6646\", \"5655508017_F;6646\", \"5655508017_H;6646\", \"5655508047_B;6646\", \"5655508047_H;6646\", \"5655508048_A;6646\", \"5655508048_B;6646\", \"5655508048_K;6646\", \"5655508054_L;6646\", \"5666194004_C;6646\", \"5666194004_G;6646\", \"5666194004_H;6646\", \"5666194004_K;6646\", \"5666194008_A;6646\", \"5666194008_C;6646\", \"5666194022_G;6646\", \"5666194022_I;6646\", \"5666194025_J;6646\", \"5666194026_I;6646\", \"5666194027_A;6646\", \"5666194027_E;6646\", \"5666194027_H;6646\", \"6747973056_D;6646\", \"6747973056_J;6646\", \"6898368066_H;6646\", \"6898368066_K;6646\", \"6898368069_G;6646\", \"6898368080_G;6646\", \"6898376045_J;6646\", \"6898376063_I;6646\", \"6898376067_J;6646\", \"6898376078_G;6646\", \"6898376081_F;6646\", \"6898376089_G;6646\", \"6898376089_L;6646\", \"6898376090_B;6646\", \"6898376095_A;6646\", \"6991010002_E;6646\", \"6991010010_K;6646\", \"6991010030_E;6646\", \"6991010030_J;6646\", \"6991010045_D;6646\", \"6991010046_E;6646\", \"7466516008_H;6646\", \"7466516017_F;6646\", \"7466516017_K;6646\", \"7466516034_J;6646\", \"7466516034_L;6646\", \"7466516037_L;6646\", \"7466516038_D;6646\", \"7509352079_G;6646\", \"7509352083_B;6646\", \"7509352083_F;6646\", \"7509352083_H;6646\", \"7509352083_K;6646\", \"7509379004_H;6646\", \"7509379008_C;6646\", \"7509379010_C;6646\", \"7509379010_F;6646\", \"7509379010_J;6646\", \"7509379012_J;6646\", \"7509379017_H;6646\", \"7509379082_B;6646\", \"7509379082_J;6646\", \"7509379090_H;6646\", \"7509379090_I;6646\", \"7509379091_L;6646\", \"7509379096_I;6646\", \"7509379107_H;6646\", \"7649558052_H;6646\", \"7649558069_I;6646\", \"9249896042_F;6646\", \"9249896042_G;6646\", \"9249896042_I;6646\", \"9249896042_J;6646\", \"9249896082_F;6646\", \"9249896082_I;6646\", \"9252616022_E;6646\", \"9252616022_I;6646\", \"9252616028_L;6646\", \"9252616029_A;6646\", \"9252616029_G;6646\", \"9252616029_I;6646\", \"9252616034_D;6646\", \"9252616034_F;6646\", \"9252616034_L;6646\", \"9252616055_H;6646\", \"9252616057_L;6646\", \"9252616058_C;6646\", \"9252616073_D;6646\", \"9252616087_C;6646\", \"9252616087_D;6646\", \"9252616094_D;6646\", \"9252616095_K;6646\", \"9252616096_B;6646\", \"9252616096_D;6646\", \"9252616097_L;6646\", \"9252616099_G;6646\", \"9252616099_L;6646\", \"9252616100_D;6646\", \"9252616100_E;6646\", \"9252616100_J;6646\", \"9257622042_G;6646\", \"9257622045_I;6646\", \"9257622077_I;6646\", \"9257622095_F;6646\", \"9257622095_I;6646\", \"9257622098_D;6646\", \"9257622099_E;6646\", \"9257622099_G;6646\", \"9257622099_H;6646\", \"9257622100_K;6646\", \"9257631006_H;6646\", \"9257631015_D;6646\", \"9257631015_G;6646\", \"9257631015_K;6646\", \"9257631015_L;6646\", \"9257631019_J;6646\", \"9257631026_G;6646\", \"9257631026_L;6646\", \"9257631027_C;6646\", \"9257631027_J;6646\", \"9257631032_D;6646\", \"9257631032_J;6646\", \"9257631036_G;6646\", \"9257631045_I;6646\", \"9257631050_D;6646\", \"9257631050_E;6646\", \"9257631053_F;6646\", \"9257631053_G;6646\", \"9257631056_D;6646\", \"9257631056_L;6646\", \"9257631069_E;6646\", \"9259561002_A;6646\", \"9259561002_B;6646\", \"9259561002_H;6646\", \"9259561002_L;6646\", \"9259561005_E;6646\", \"A;7002\", \"B;7002\", \"C;7002\", \"FANTOM-14;7079\", \"FANTOM-15;7079\", \"FANTOM-16;7079\", \"FANTOM-17;7079\", \"FANTOM-18;7079\", \"FANTOM-19;7079\", \"FANTOM-20;7079\", \"FANTOM-24;7079\", \"FANTOM10;7079\", \"FANTOM11;7079\", \"FANTOM12;7079\", \"FANTOM13;7079\", \"FANTOM21;7079\", \"FANTOM22;7079\", \"FANTOM25;7079\", \"FANTOM26;7079\", \"FANTOM27;7079\", \"FANTOM28;7079\", \"FANTOM29;7079\", \"FANTOM30;7079\", \"FANTOM31;7079\", \"FANTOM32;7079\", \"FANTOM34;7079\", \"FANTOM35;7079\", \"FANTOM36;7079\", \"FANTOM6-1;7079\", \"FANTOM6-2;7079\", \"FANTOM6-3;7079\", \"FANTOM6-4;7079\", \"FANTOM6-5;7079\", \"FANTOM6-6;7079\", \"FANTOM6-7;7079\", \"FANTOM9;7079\", \"GSM1004101;6237\", \"GSM1004102;6237\", \"GSM1004103;6237\", \"GSM1004104;6237\", \"GSM1004105;6237\", \"GSM1004106;6237\", \"GSM1004107;6237\", \"GSM1004108;6237\", \"GSM1004109;6237\", \"GSM1004110;6237\", \"GSM1004111;6237\", \"GSM1004112;6237\", \"GSM1004113;6237\", \"GSM1004114;6237\", \"GSM1041380;6358\", \"GSM1041381;6358\", \"GSM1041382;6358\", \"GSM1041383;6358\", \"GSM1041386;6358\", \"GSM1041387;6358\", \"GSM1041388;6358\", \"GSM1041389;6358\", \"GSM1041390;6358\", \"GSM1041391;6358\", \"GSM1041392;6358\", \"GSM1041393;6358\", \"GSM1041396;6358\", \"GSM1041397;6358\", \"GSM1041398;6358\", \"GSM1041399;6358\", \"GSM1041400;6358\", \"GSM1041401;6358\", \"GSM1041402;6358\", \"GSM1041403;6358\", \"GSM1041404;6358\", \"GSM1041405;6358\", \"GSM1041406;6358\", \"GSM1041407;6358\", \"GSM1041408;6358\", \"GSM1041409;6358\", \"GSM1041410;6358\", \"GSM1068613;6774\", \"GSM1068614;6774\", \"GSM1068615;6774\", \"GSM1068616;6774\", \"GSM1068617;6774\", \"GSM1068618;6774\", \"GSM1068619;6774\", \"GSM1068620;6774\", \"GSM1093999;6363\", \"GSM1094000;6363\", \"GSM1094001;6363\", \"GSM1094002;6363\", \"GSM1094013;6363\", \"GSM1094014;6363\", \"GSM1094015;6363\", \"GSM1097812;6366\", \"GSM1097813;6366\", \"GSM1097814;6366\", \"GSM1097815;6366\", \"GSM1097816;6366\", \"GSM1097817;6366\", \"GSM1097818;6366\", \"GSM1097819;6366\", \"GSM1097820;6366\", \"GSM1162510;6326\", \"GSM1162511;6326\", \"GSM1162512;6326\", \"GSM1162513;6326\", \"GSM1162515;6326\", \"GSM1162516;6326\", \"GSM1162517;6326\", \"GSM1162518;6326\", \"GSM1162520;6326\", \"GSM1162521;6326\", \"GSM1162522;6326\", \"GSM1162523;6326\", \"GSM1210379;6339\", \"GSM1210380;6339\", \"GSM1210381;6339\", \"GSM1210382;6339\", \"GSM1210383;6339\", \"GSM1210384;6339\", \"GSM1210385;6339\", \"GSM1210386;6339\", \"GSM1210387;6339\", \"GSM1210388;6339\", \"GSM1210389;6339\", \"GSM1210390;6339\", \"GSM1210391;6339\", \"GSM1210392;6339\", \"GSM1210393;6339\", \"GSM1210394;6339\", \"GSM1210395;6339\", \"GSM1210396;6339\", \"GSM1210397;6339\", \"GSM1210398;6339\", \"GSM1210399;6339\", \"GSM1210400;6339\", \"GSM1210401;6339\", \"GSM1210402;6339\", \"GSM1210403;6339\", \"GSM1210404;6339\", \"GSM1210405;6339\", \"GSM1210406;6339\", \"GSM1304777;6601\", \"GSM1304778;6601\", \"GSM1304779;6601\", \"GSM1304780;6601\", \"GSM1304781;6601\", \"GSM1304782;6601\", \"GSM1304783;6601\", \"GSM1304784;6601\", \"GSM1304785;6601\", \"GSM1304786;6601\", \"GSM1304787;6601\", \"GSM1304788;6601\", \"GSM1304789;6601\", \"GSM1304790;6601\", \"GSM1304791;6601\", \"GSM1338806;7264\", \"GSM1338808;7264\", \"GSM1338811;7264\", \"GSM1338813;7264\", \"GSM1338815;7264\", \"GSM1367902;6741\", \"GSM1367903;6741\", \"GSM1367904;6741\", \"GSM1367905;6741\", \"GSM1367906;6741\", \"GSM1367907;6741\", \"GSM1367908;6741\", \"GSM1367909;6741\", \"GSM1367910;6741\", \"GSM1367911;6741\", \"GSM1367912;6741\", \"GSM1367913;6741\", \"GSM1367914;6741\", \"GSM1367915;6741\", \"GSM1367916;6741\", \"GSM1367917;6741\", \"GSM1367918;6741\", \"GSM1367919;6741\", \"GSM1367920;6741\", \"GSM1367921;6741\", \"GSM1367922;6741\", \"GSM1367923;6741\", \"GSM1367924;6741\", \"GSM1367925;6741\", \"GSM1367926;6741\", \"GSM1367927;6741\", \"GSM1367928;6741\", \"GSM1367929;6741\", \"GSM1367930;6741\", \"GSM1367931;6741\", \"GSM1367932;6741\", \"GSM1367933;6741\", \"GSM1367934;6741\", \"GSM1367935;6741\", \"GSM1367936;6741\", \"GSM1367937;6741\", \"GSM1367938;6741\", \"GSM1367939;6741\", \"GSM1367940;6741\", \"GSM1367941;6741\", \"GSM1367942;6741\", \"GSM1367943;6741\", \"GSM1367944;6741\", \"GSM1367945;6741\", \"GSM1367946;6741\", \"GSM1367947;6741\", \"GSM1367948;6741\", \"GSM1367949;6741\", \"GSM1367950;6741\", \"GSM1367951;6741\", \"GSM1367952;6741\", \"GSM1367953;6741\", \"GSM1367954;6741\", \"GSM1367955;6741\", \"GSM1367956;6741\", \"GSM1367957;6741\", \"GSM1367958;6741\", \"GSM1367959;6741\", \"GSM1367960;6741\", \"GSM1367961;6741\", \"GSM1367962;6741\", \"GSM1367963;6741\", \"GSM1367964;6741\", \"GSM1367965;6741\", \"GSM1367966;6741\", \"GSM1367967;6741\", \"GSM1367968;6741\", \"GSM1367969;6741\", \"GSM1367970;6741\", \"GSM1367971;6741\", \"GSM1367972;6741\", \"GSM1367973;6741\", \"GSM1367974;6741\", \"GSM1367975;6741\", \"GSM1367976;6741\", \"GSM1367977;6741\", \"GSM1367978;6741\", \"GSM1367979;6741\", \"GSM1367980;6741\", \"GSM1367981;6741\", \"GSM1367982;6741\", \"GSM1367983;6741\", \"GSM1367984;6741\", \"GSM1367985;6741\", \"GSM1367986;6741\", \"GSM1367987;6741\", \"GSM1367988;6741\", \"GSM1367989;6741\", \"GSM1386443;7003\", \"GSM1386444;7003\", \"GSM1386445;7003\", \"GSM1386446;7003\", \"GSM1386447;7003\", \"GSM1386448;7003\", \"GSM1386449;7003\", \"GSM1386450;7003\", \"GSM1386451;7003\", \"GSM1386452;7003\", \"GSM1386453;7003\", \"GSM1386454;7003\", \"GSM1386455;7003\", \"GSM1386456;7003\", \"GSM1386457;7003\", \"GSM1386458;7003\", \"GSM1386459;7003\", \"GSM1386460;7003\", \"GSM1386461;7003\", \"GSM1386462;7003\", \"GSM1386463;7003\", \"GSM1386464;7003\", \"GSM1386465;7003\", \"GSM1386466;7003\", \"GSM1386467;7003\", \"GSM1386468;7003\", \"GSM1386469;7003\", \"GSM1386470;7003\", \"GSM1386471;7003\", \"GSM1386472;7003\", \"GSM1386473;7003\", \"GSM1386474;7003\", \"GSM1386475;7003\", \"GSM1386476;7003\", \"GSM1386477;7003\", \"GSM1386478;7003\", \"GSM1386479;7003\", \"GSM1386480;7003\", \"GSM1386481;7003\", \"GSM1386482;7003\", \"GSM1386483;7003\", \"GSM1386484;7003\", \"GSM1386485;7003\", \"GSM1386486;7003\", \"GSM1386487;7003\", \"GSM1386488;7003\", \"GSM1386489;7003\", \"GSM1386490;7003\", \"GSM1386491;7003\", \"GSM1386492;7003\", \"GSM1386493;7003\", \"GSM1386494;7003\", \"GSM1386495;7003\", \"GSM1386496;7003\", \"GSM1386497;7003\", \"GSM1386498;7003\", \"GSM1386499;7003\", \"GSM1386500;7003\", \"GSM1386501;7003\", \"GSM1386502;7003\", \"GSM1386503;7003\", \"GSM1386504;7003\", \"GSM1386505;7003\", \"GSM1386506;7003\", \"GSM1386507;7003\", \"GSM1386508;7003\", \"GSM1386509;7003\", \"GSM1386510;7003\", \"GSM1386511;7003\", \"GSM1386512;7003\", \"GSM1386513;7003\", \"GSM1386514;7003\", \"GSM1386515;7003\", \"GSM1386516;7003\", \"GSM1427132;6572\", \"GSM1427133;6572\", \"GSM1427134;6572\", \"GSM1427135;6572\", \"GSM1427136;6572\", \"GSM1427137;6572\", \"GSM1427138;6572\", \"GSM1427139;6572\", \"GSM1427140;6572\", \"GSM1427141;6572\", \"GSM1427142;6572\", \"GSM1427143;6572\", \"GSM1427144;6572\", \"GSM1427145;6572\", \"GSM1427146;6572\", \"GSM1600118;6272\", \"GSM1600119;6272\", \"GSM1600120;6272\", \"GSM1600121;6272\", \"GSM1600122;6272\", \"GSM1600123;6272\", \"GSM1600124;6272\", \"GSM1600125;6272\", \"GSM1600126;6272\", \"GSM1600127;6272\", \"GSM1600128;6272\", \"GSM1600129;6272\", \"GSM1600130;6272\", \"GSM1600131;6272\", \"GSM1600132;6272\", \"GSM1600133;6272\", \"GSM1600134;6272\", \"GSM1600135;6272\", \"GSM1612360;7319\", \"GSM1612361;7319\", \"GSM1612362;7319\", \"GSM1612363;7319\", \"GSM1612364;7319\", \"GSM1612365;7319\", \"GSM1695850;7284\", \"GSM1695851;7284\", \"GSM1695854;7284\", \"GSM1695855;7284\", \"GSM1925965;7264\", \"GSM1925966;7264\", \"GSM1925968;7264\", \"GSM1977401;7283\", \"GSM1977407;7283\", \"GSM2036944;7288\", \"GSM2036945;7288\", \"GSM2036946;7288\", \"GSM2036947;7288\", \"GSM2036948;7288\", \"GSM2036949;7288\", \"GSM2036950;7288\", \"GSM2036951;7288\", \"GSM2036952;7288\", \"GSM2036953;7288\", \"GSM2036954;7288\", \"GSM2036955;7288\", \"GSM2036956;7288\", \"GSM2036957;7288\", \"GSM2036958;7288\", \"GSM2036961;7288\", \"GSM2036962;7288\", \"GSM2036963;7288\", \"GSM2036964;7288\", \"GSM2036965;7288\", \"GSM2036966;7288\", \"GSM2036967;7288\", \"GSM2036968;7288\", \"GSM2036969;7288\", \"GSM2036970;7288\", \"GSM2036971;7288\", \"GSM2036972;7288\", \"GSM2036973;7288\", \"GSM2036974;7288\", \"GSM2036975;7288\", \"GSM2067545;7277\", \"GSM2067546;7277\", \"GSM2067547;7277\", \"GSM2067551;7277\", \"GSM2067552;7277\", \"GSM2067553;7277\", \"GSM2285362;7062\", \"GSM2285363;7062\", \"GSM2285365;7062\", \"GSM2285366;7062\", \"GSM2285367;7062\", \"GSM2285368;7062\", \"GSM2285369;7062\", \"GSM2285370;7062\", \"GSM2285371;7062\", \"GSM2285372;7062\", \"GSM2285373;7062\", \"GSM2360258;7268\", \"GSM2360259;7268\", \"GSM2360260;7268\", \"GSM2360265;7268\", \"GSM2360266;7268\", \"GSM2360267;7268\", \"GSM2360268;7268\", \"GSM2360269;7268\", \"GSM2360270;7268\", \"GSM2360271;7268\", \"GSM2360272;7268\", \"GSM2360273;7268\", \"GSM2360280;7268\", \"GSM2360281;7268\", \"GSM2360282;7268\", \"GSM2360283;7268\", \"GSM2360284;7268\", \"GSM2360285;7268\", \"GSM2360286;7268\", \"GSM2360287;7268\", \"GSM2360288;7268\", \"GSM2445478;7268\", \"GSM2445479;7268\", \"GSM2445480;7268\", \"GSM250022;6037\", \"GSM250023;6037\", \"GSM250024;6037\", \"GSM250025;6037\", \"GSM250026;6037\", \"GSM250027;6037\", \"GSM2551704;7268\", \"GSM2551705;7268\", \"GSM2551706;7268\", \"GSM2576749;7193\", \"GSM2576750;7193\", \"GSM2576751;7193\", \"GSM2576752;7193\", \"GSM2576753;7193\", \"GSM2576754;7193\", \"GSM2576755;7193\", \"GSM2576756;7193\", \"GSM2576757;7193\", \"GSM2576758;7193\", \"GSM2576759;7193\", \"GSM2576761;7193\", \"GSM2576762;7193\", \"GSM2576764;7193\", \"GSM2576765;7193\", \"GSM2576766;7193\", \"GSM2576767;7193\", \"GSM2576768;7193\", \"GSM2576769;7193\", \"GSM2576770;7193\", \"GSM2576771;7193\", \"GSM2576772;7193\", \"GSM2576773;7193\", \"GSM2576774;7193\", \"GSM2651067;7371\", \"GSM2651068;7371\", \"GSM2651069;7371\", \"GSM2651070;7371\", \"GSM2651071;7371\", \"GSM2651072;7371\", \"GSM2651073;7371\", \"GSM2651074;7371\", \"GSM2651075;7371\", \"GSM2717641;6530\", \"GSM2717642;6530\", \"GSM2717643;6530\", \"GSM2717644;6530\", \"GSM2717645;6530\", \"GSM2717646;6530\", \"GSM2717647;6530\", \"GSM2717648;6530\", \"GSM2717649;6530\", \"GSM2717650;6530\", \"GSM2717651;6530\", \"GSM2717652;6530\", \"GSM2717653;6530\", \"GSM2717654;6530\", \"GSM2717655;6530\", \"GSM2717656;6530\", \"GSM2717657;6530\", \"GSM2717658;6530\", \"GSM2717659;6530\", \"GSM2717660;6530\", \"GSM2717661;6530\", \"GSM2717662;6530\", \"GSM2717663;6530\", \"GSM2717664;6530\", \"GSM2717665;6530\", \"GSM2717666;6530\", \"GSM2717667;6530\", \"GSM2717668;6530\", \"GSM2717669;6530\", \"GSM2717670;6530\", \"GSM2717671;6530\", \"GSM2717672;6530\", \"GSM2717673;6530\", \"GSM2717674;6530\", \"GSM2717675;6530\", \"GSM2717676;6530\", \"GSM2717677;6530\", \"GSM2717678;6530\", \"GSM2717679;6530\", \"GSM2717680;6530\", \"GSM2717681;6530\", \"GSM2717682;6530\", \"GSM2717683;6530\", \"GSM2717684;6412\", \"GSM2717685;6412\", \"GSM2717686;6412\", \"GSM2717687;6412\", \"GSM2717688;6412\", \"GSM2717689;6412\", \"GSM2717690;6412\", \"GSM2717691;6412\", \"GSM2717692;6412\", \"GSM2849362;7323\", \"GSM2849363;7323\", \"GSM2849364;7323\", \"GSM2849365;7323\", \"GSM2849366;7323\", \"GSM2849367;7323\", \"GSM2849368;7323\", \"GSM2849369;7323\", \"GSM2849370;7323\", \"GSM2849371;7323\", \"GSM2861551;7358\", \"GSM2861552;7358\", \"GSM2861553;7358\", \"GSM2861554;7358\", \"GSM2861555;7358\", \"GSM2861556;7358\", \"GSM2861557;7358\", \"GSM2861558;7358\", \"GSM2861559;7358\", \"GSM2861560;7358\", \"GSM3019392;7321\", \"GSM3019393;7321\", \"GSM3019394;7321\", \"GSM3019395;7321\", \"GSM3019396;7321\", \"GSM3019397;7321\", \"GSM3019398;7321\", \"GSM3019399;7321\", \"GSM3019400;7321\", \"GSM3019401;7321\", \"GSM3019402;7321\", \"GSM3044855;7320\", \"GSM3044856;7320\", \"GSM3044857;7320\", \"GSM3044858;7320\", \"GSM3044859;7320\", \"GSM3044860;7320\", \"GSM3044861;7320\", \"GSM3044862;7320\", \"GSM396480;6003\", \"GSM396481;6003\", \"GSM396482;6003\", \"GSM396483;6003\", \"GSM396484;6003\", \"GSM396485;6003\", \"GSM396486;6003\", \"GSM396487;6003\", \"GSM396488;6003\", \"GSM397303;7021\", \"GSM397307;7021\", \"GSM397311;7021\", \"GSM422109;6238\", \"GSM422110;6238\", \"GSM422111;6238\", \"GSM422112;6238\", \"GSM422113;6238\", \"GSM422114;6238\", \"GSM422116;6238\", \"GSM721066;6886\", \"GSM721067;6886\", \"GSM721068;6886\", \"GSM721069;6886\", \"GSM721070;6886\", \"GSM721071;6886\", \"GSM812988;6661\", \"GSM812989;6661\", \"GSM812990;6661\", \"GSM812991;6661\", \"GSM812992;6661\", \"GSM812993;6661\", \"GSM812994;6661\", \"GSM812995;6661\", \"GSM812996;6661\", \"GSM812997;6661\", \"GSM812998;6661\", \"GSM812999;6661\", \"GSM813000;6661\", \"GSM813001;6661\", \"GSM813002;6661\", \"GSM813003;6661\", \"GSM813004;6661\", \"GSM813005;6661\", \"GSM813006;6661\", \"GSM813007;6661\", \"GSM813008;6661\", \"GSM813009;6661\", \"GSM813010;6661\", \"GSM813011;6661\", \"GSM813012;6661\", \"GSM813013;6661\", \"GSM813014;6661\", \"GSM868877;6638\", \"GSM868878;6638\", \"GSM868879;6638\", \"GSM868880;6638\", \"GSM868881;6638\", \"GSM868882;6638\", \"GSM868883;6638\", \"GSM868884;6638\", \"GSM868885;6638\", \"GSM868886;6638\", \"GSM868887;6638\", \"GSM868888;6638\", \"GSM868889;6638\", \"GSM868890;6638\", \"GSM868891;6638\", \"GSM868892;6638\", \"GSM868893;6638\", \"GSM868894;6638\", \"GSM868895;6638\", \"GSM868896;6638\", \"GSM868897;6638\", \"GSM868898;6638\", \"GSM868899;6638\", \"GSM868900;6638\", \"GSM868901;6638\", \"GSM868902;6638\", \"GSM868903;6638\", \"GSM868904;6638\", \"GSM868905;6638\", \"GSM868906;6638\", \"GSM868907;6638\", \"GSM868908;6638\", \"GSM868909;6638\", \"GSM870541;6509\", \"GSM870542;6509\", \"GSM870543;6509\", \"GSM870544;6509\", \"GSM870545;6509\", \"GSM870546;6509\", \"GSM994840;6463\", \"GSM994841;6463\", \"GSM994842;6463\", \"GSM994843;6463\", \"GSM994844;6463\", \"GSM994845;6463\", \"GSM994846;6463\", \"GSM994847;6463\", \"GSM994848;6463\", \"GSM994849;6463\", \"GSM994850;6463\", \"GSM994851;6463\", \"GSM994852;6463\", \"GSM994853;6463\", \"GSM994856;6463\", \"GSM994857;6463\", \"GSM994858;6463\", \"GSM994859;6463\", \"GSM994860;6463\", \"GSM994861;6463\", \"GSM999015;6252\", \"GSM999016;6252\", \"GSM999017;6252\", \"GSM999018;6252\", \"GSM999019;6252\", \"GSM999020;6252\", \"GSM999021;6252\", \"GSM999022;6252\", \"GSM999023;6252\", \"J;7002\", \"K;7002\", \"KK1HSC1_1;6610\", \"KK1HSC1_2;6610\", \"KK1HSC2_1;6610\", \"KK1HSC2_2;6610\", \"KK1HSC3_1;6610\", \"KK1HSC3_2;6610\", \"KK3HPC1_1;6610\", \"KK3HPC1_2;6610\", \"KK3HPC2_1;6610\", \"KK3HPC2_2;6610\", \"KK3HPC3_1;6610\", \"KK3HPC3_2;6610\", \"L;7002\", \"M;7002\", \"N;7002\", \"O;7002\", \"P;7002\", \"Q;7002\", \"R;7002\", \"S;7002\", \"T;7002\", \"U;7002\"], \"xaxis\": \"x\", \"y\": [0.705689248580161, 0.06779631388396909, 0.03152343617281322, 0.020619882979717695, 0.013415889154955493, 0.010819820801362583, 0.009351127590486986, 0.007172104378729643, 0.006665903972623937, 0.006120994420197803, 0.00504048885243602, 0.004404634837150895, 0.004127465129695585, 0.003925199053284843, 0.0035361165452733306, 0.0032897920356689853, 0.003047173978619102, 0.0029348268086319927, 0.002530926757821972, 0.0022007755762564383, 0.0020894563290684764, 0.001923081479829172, 0.0017713950401134475, 0.0016385340462757947, 0.001613544323734831, 0.0015091370086025772, 0.0014851654582156962, 0.0013571968412506078, 0.001310724610429768, 0.0012187763209862911, 0.001194927168467129, 0.0011685315914348796, 0.001116829240757682, 0.0010419195165959937, 0.000986942950965397, 0.0009102850857474512, 0.0009083594793519054, 0.0008024792558380551, 0.0007739227553217597, 0.0007469358620294598, 0.0007210004403182395, 0.0007170410754664099, 0.0006827957369891724, 0.000668056915382932, 0.0006334659151496073, 0.0006155286022882436, 0.0005992023582385783, 0.0005761214510835191, 0.0005500009328241009, 0.0005363252642608229, 0.0005135301355645987, 0.0004956557479613108, 0.0004921967942938174, 0.00048690775431850324, 0.000469522865364196, 0.00046212335504536046, 0.0004492353837766628, 0.00043964103633334063, 0.00041299552142034075, 0.00040640083917222684, 0.00040314847664533375, 0.000388930945494802, 0.0003750126694588839, 0.0003719371757872136, 0.0003607328640365507, 0.00035569859144389174, 0.0003505714518017824, 0.00034292102828799553, 0.0003252039202731935, 0.0003230626395905307, 0.0003189231141744191, 0.0003137608148985479, 0.0002974558759784279, 0.00029165673454831925, 0.00028328845581448043, 0.00027454387000819887, 0.0002702365159793377, 0.00026220135122778356, 0.000257561880513249, 0.00025251647354243177, 0.00024791432927233044, 0.0002456062249288647, 0.0002375135950541302, 0.00023426120902488983, 0.00023310614142615495, 0.00022264759536944816, 0.0002196998756865522, 0.00021572158862984914, 0.00021428082250825187, 0.00021191692403909373, 0.0002077484457459398, 0.00020550563054602745, 0.00020060866691538158, 0.00019774755632389867, 0.00019546004037149237, 0.00019198913352337288, 0.00018756514369996645, 0.0001852972940670775, 0.00018354563402133746, 0.00018047113005233576, 0.00017971014766284885, 0.00017635167971472672, 0.00017368450862957304, 0.00017282678810684856, 0.00017135329565203344, 0.00017059101241834572, 0.0001693583825189437, 0.00016743561739649998, 0.0001642517780378923, 0.0001626551501938215, 0.00016213222692145672, 0.00015938664754924667, 0.00015910627064447044, 0.00015762086294991468, 0.0001572303941540518, 0.0001553825980867172, 0.00015340244133215294, 0.00015272384561841598, 0.00015149258988478846, 0.00015051872754251854, 0.00014960088975594511, 0.00014737395865635947, 0.00014715405873959122, 0.00014644936363100708, 0.00014602290856296623, 0.00014555698920048642, 0.0001444793815850972, 0.00014368984639263324, 0.0001421339169238503, 0.0001410795916019058, 0.00014044438283193953, 0.0001397589976385346, 0.00013904662952222855, 0.00013839037079239983, 0.0001378680805005122, 0.00013672274193131067, 0.0001361964443891248, 0.00013541571993939088, 0.0001344382186528719, 0.00013386594616029166, 0.00013293288071312016, 0.00013253232725166252, 0.00013211471372967488, 0.0001311774661462659, 0.00013060772997860627, 0.00013030706163321288, 0.0001291420789387688, 0.00012899799070637853, 0.00012750605410544904, 0.00012740835312893497, 0.00012701389062262948, 0.00012656354616676814, 0.0001254071885624375, 0.000125137119400209, 0.00012469149674823734, 0.00012417167724212383, 0.00012405491069806927, 0.0001237714743129028, 0.0001231217518164512, 0.000122611351686439, 0.00012200761882001247, 0.00012132009043787981, 0.0001213114355378939, 0.00012039944237019043, 0.00011996925048301758, 0.00011916522490085162, 0.00011893481403153862, 0.00011857454353218758, 0.0001179090244685541, 0.00011753997930216295, 0.00011722838992587381, 0.00011683046430756319, 0.0001162464719135248, 0.00011592508513104434, 0.00011549109423737772, 0.0001151762454080518, 0.0001148076717177693, 0.00011453077248140148, 0.00011391155674714375, 0.00011381263626885577, 0.00011253919571665564, 0.00011219288327344545, 0.00011211091109901899, 0.000111377402330344, 0.00011127149610800759, 0.00011085610781022124, 0.00011033875451672571, 0.0001094271924036701, 0.00010900825631826153, 0.00010871292397967135, 0.00010812026609234124, 0.00010765723661360744, 0.00010727251299166278, 0.00010693450235003012, 0.0001062621492369424, 0.00010561171399240473, 0.00010546168136249388, 0.00010514555268495581, 0.00010433792011987215, 0.00010417386085372669, 0.00010405729535370853, 0.00010350862090199114, 0.00010303726218002408, 0.00010249310639239028, 0.0001021598269779543, 0.00010158568648091417, 0.00010148665120023834, 0.00010105983810637407, 0.00010050976328627111, 0.00010023239329928993, 9.996282209300003e-05, 9.974609729611584e-05, 9.953444238795217e-05, 9.888070132489105e-05, 9.878607711242464e-05, 9.84936263796002e-05, 9.821708098277448e-05, 9.788338801718405e-05, 9.734648319022656e-05, 9.710174821839052e-05, 9.678757898876479e-05, 9.650399501278486e-05, 9.621861104562498e-05, 9.606258700050378e-05, 9.551690007014543e-05, 9.526786736476068e-05, 9.523781354936844e-05, 9.475954688830991e-05, 9.4293127870637e-05, 9.399896730832176e-05, 9.355102623932583e-05, 9.303852992482775e-05, 9.270768086511957e-05, 9.243565852021216e-05, 9.21453776497823e-05, 9.195427004385733e-05, 9.101667672831451e-05, 9.070243229171485e-05, 9.05876045260526e-05, 9.032818565540612e-05, 8.968099188792304e-05, 8.941454363821566e-05, 8.917490527000274e-05, 8.887681534537038e-05, 8.852350625698924e-05, 8.801933229973997e-05, 8.774751492833494e-05, 8.728678921763366e-05, 8.679389575379009e-05, 8.625108209958996e-05, 8.597999155235796e-05, 8.569224840894541e-05, 8.521842730152353e-05, 8.46488415233491e-05, 8.455104115837e-05, 8.41656916089087e-05, 8.373452169438362e-05, 8.323751380693331e-05, 8.315844320955779e-05, 8.290901632916468e-05, 8.271440095805943e-05, 8.254870167943631e-05, 8.236035551781253e-05, 8.17055430806329e-05, 8.126087697598542e-05, 8.06878589420254e-05, 8.052732363859197e-05, 7.982836907888988e-05, 7.973575589882226e-05, 7.937769226150571e-05, 7.921957165103598e-05, 7.904848783172167e-05, 7.82062832518547e-05, 7.818079928632334e-05, 7.760373162510126e-05, 7.736247105485709e-05, 7.676549497466342e-05, 7.655702941043121e-05, 7.62321185975813e-05, 7.606621316422904e-05, 7.577722318696623e-05, 7.533753698027757e-05, 7.509222207661742e-05, 7.458715483715003e-05, 7.456463355634043e-05, 7.390133556900755e-05, 7.364463534494675e-05, 7.303617975686873e-05, 7.249624523493196e-05, 7.233980552958791e-05, 7.20180382559383e-05, 7.18307150318319e-05, 7.160124255530528e-05, 7.12003471483876e-05, 7.098591846433879e-05, 7.071627861859866e-05, 7.031433257494674e-05, 7.022202985790533e-05, 6.990689004830691e-05, 6.938832028985167e-05, 6.890409873544369e-05, 6.875996529480348e-05, 6.87184438414182e-05, 6.830437305927999e-05, 6.792437752356115e-05, 6.78518547276333e-05, 6.750356385720769e-05, 6.714140599716978e-05, 6.699178438027064e-05, 6.683085422651297e-05, 6.641442211170753e-05, 6.636923078764942e-05, 6.609978741394601e-05, 6.583970613645991e-05, 6.565135834986364e-05, 6.533209667859601e-05, 6.50488511086273e-05, 6.465117822126578e-05, 6.444419048002984e-05, 6.43213323574448e-05, 6.414361456967202e-05, 6.37398309290461e-05, 6.339836132994053e-05, 6.329933822033122e-05, 6.304565456855774e-05, 6.27445431829651e-05, 6.231978169383615e-05, 6.210202645538463e-05, 6.191438866819899e-05, 6.178543532937746e-05, 6.134783259521895e-05, 6.126016304938266e-05, 6.059902545463106e-05, 6.0306658170545816e-05, 6.004445377071202e-05, 5.996937701124593e-05, 5.9829321572464464e-05, 5.9803440740709076e-05, 5.9329909068024505e-05, 5.914750116417382e-05, 5.880759449653659e-05, 5.87557706768284e-05, 5.8490953606669857e-05, 5.8143272208666444e-05, 5.7979001435607054e-05, 5.764995029392317e-05, 5.7634314083916126e-05, 5.74468969106785e-05, 5.7330285262431354e-05, 5.6890570009632254e-05, 5.6693682636782076e-05, 5.643229255847321e-05, 5.6330018001452655e-05, 5.599792253927948e-05, 5.5652490059746745e-05, 5.5549404580587585e-05, 5.537879619375155e-05, 5.523650663336354e-05, 5.5120512012501625e-05, 5.488985442034128e-05, 5.4533182399046416e-05, 5.4237697738570334e-05, 5.3949475596258314e-05, 5.383708648537477e-05, 5.370440042948084e-05, 5.358562599025409e-05, 5.3191369955264495e-05, 5.3117941704455754e-05, 5.2892523911912525e-05, 5.2572820452559174e-05, 5.2411281281948705e-05, 5.217960278582877e-05, 5.204689925437134e-05, 5.1680568052964184e-05, 5.166792761754211e-05, 5.153333024931959e-05, 5.102910680209845e-05, 5.087689131062564e-05, 5.074685101033263e-05, 5.037750441993127e-05, 5.020144110351342e-05, 5.0129983285761144e-05, 4.9823425284606394e-05, 4.965946171057264e-05, 4.958319278932273e-05, 4.949437579182483e-05, 4.936660012641736e-05, 4.9201182343257666e-05, 4.894089819820878e-05, 4.866332541053296e-05, 4.8650789089382625e-05, 4.846028360414579e-05, 4.832980637362657e-05, 4.8228740186347605e-05, 4.821133326305467e-05, 4.797685388210614e-05, 4.7787094169737616e-05, 4.757322461552134e-05, 4.7384649257745906e-05, 4.725993405132208e-05, 4.6992537842470966e-05, 4.6798860473117856e-05, 4.658393876384926e-05, 4.649074941581175e-05, 4.611703512338336e-05, 4.601642032521528e-05, 4.582699359185423e-05, 4.5665656443142246e-05, 4.549823678470651e-05, 4.5454213653843785e-05, 4.528886830317216e-05, 4.522834138606465e-05, 4.495162580953975e-05, 4.485563413542891e-05, 4.472860088920014e-05, 4.464704179702217e-05, 4.453028550572968e-05, 4.4337287372178726e-05, 4.4311520849367925e-05, 4.399119134898151e-05, 4.3927445859077775e-05, 4.363848787119402e-05, 4.35586265499344e-05, 4.3434443790739886e-05, 4.3213542838604e-05, 4.313906182156678e-05, 4.298438976141613e-05, 4.296498512754696e-05, 4.274831083976919e-05, 4.265156296874815e-05, 4.244829892312015e-05, 4.235146269628158e-05, 4.2321914605918877e-05, 4.219073234158571e-05, 4.200333943963304e-05, 4.176956414031352e-05, 4.1596841057806455e-05, 4.1512460791775984e-05, 4.144357133310435e-05, 4.127442413818149e-05, 4.117572993488339e-05, 4.1068481484026843e-05, 4.0999600643833436e-05, 4.080698994078806e-05, 4.066388240737796e-05, 4.060024738160223e-05, 4.037916110635269e-05, 4.031385003202656e-05, 4.014996827223391e-05, 3.996330152874771e-05, 3.984786200418015e-05, 3.979973051468333e-05, 3.974042233564445e-05, 3.9693955082785714e-05, 3.952838142801165e-05, 3.9369887274755684e-05, 3.926018262536963e-05, 3.916834699736247e-05, 3.907386433008987e-05, 3.9027129487496386e-05, 3.894967523905615e-05, 3.872166217671605e-05, 3.868941585797211e-05, 3.841616921425216e-05, 3.8374760775849885e-05, 3.8174529988629484e-05, 3.813318444027312e-05, 3.794495754938727e-05, 3.790412868642183e-05, 3.7781814197922255e-05, 3.774396190237472e-05, 3.755236076154237e-05, 3.748138318043614e-05, 3.738369835597638e-05, 3.728491223994469e-05, 3.6978362271312345e-05, 3.694714034984868e-05, 3.6892441323244115e-05, 3.6841009720643136e-05, 3.674531161379376e-05, 3.666814143449085e-05, 3.655724282902818e-05, 3.648608406609839e-05, 3.632097420743408e-05, 3.6193588332469735e-05, 3.6132637057609945e-05, 3.601217800983248e-05, 3.5929514549102986e-05, 3.5777365698983757e-05, 3.567522163752628e-05, 3.5550438148304486e-05, 3.552139867011661e-05, 3.537498027955952e-05, 3.524654620045988e-05, 3.5135089359561785e-05, 3.5037641629171096e-05, 3.49447584693141e-05, 3.4782398302868186e-05, 3.477163593595947e-05, 3.4697405942599715e-05, 3.454422049217712e-05, 3.439338208997654e-05, 3.435060383363048e-05, 3.427833093272027e-05, 3.4235391835268035e-05, 3.407026531668005e-05, 3.376954252082051e-05, 3.373695701977071e-05, 3.3670577235197136e-05, 3.3622152887689824e-05, 3.3393814194867224e-05, 3.330968363908428e-05, 3.3241943077218765e-05, 3.306148610323209e-05, 3.297332599195494e-05, 3.285445480230011e-05, 3.277636979869861e-05, 3.271836212465412e-05, 3.2628124017031175e-05, 3.24255851172255e-05, 3.23184912870403e-05, 3.225371650943731e-05, 3.224416167627563e-05, 3.210846045738465e-05, 3.2042650594550654e-05, 3.2000362399855234e-05, 3.1929049614192494e-05, 3.17291190286314e-05, 3.166348310029048e-05, 3.161166954525087e-05, 3.153181222939851e-05, 3.1459501562124906e-05, 3.1359077131015044e-05, 3.1285033931981976e-05, 3.106539725325025e-05, 3.095073489964702e-05, 3.090942668136192e-05, 3.083060036063125e-05, 3.0753862563500906e-05, 3.0714225014098186e-05, 3.057441207589804e-05, 3.0480560505604596e-05, 3.0373980472090557e-05, 3.0340438494280583e-05, 3.0315703031711348e-05, 3.0134180846911837e-05, 3.010146959084164e-05, 3.0006594964354097e-05, 2.9776273397074014e-05, 2.968166782437228e-05, 2.963872088276747e-05, 2.956105350486154e-05, 2.9481676124799073e-05, 2.9388394007570636e-05, 2.9276959060756242e-05, 2.91125888829224e-05, 2.900454754131565e-05, 2.8938882833686384e-05, 2.8779502373588072e-05, 2.874149757872043e-05, 2.8685828367975218e-05, 2.8515256774185377e-05, 2.846169152570838e-05, 2.834215928887853e-05, 2.830544305168816e-05, 2.816420690440926e-05, 2.8086280509836135e-05, 2.797549270383892e-05, 2.7952506250320984e-05, 2.7858034289598982e-05, 2.7761079008818162e-05, 2.7672687734703288e-05, 2.7597378666379486e-05, 2.7497988291676863e-05, 2.7489596604721047e-05, 2.73714793308989e-05, 2.729121859194416e-05, 2.709577638865692e-05, 2.6957013867029683e-05, 2.6875512424596783e-05, 2.677916623645179e-05, 2.6702555488704754e-05, 2.6683067070089342e-05, 2.652412226605346e-05, 2.6447982470789578e-05, 2.6263335117109487e-05, 2.6180488601116824e-05, 2.6099185485732573e-05, 2.599736844579138e-05, 2.5954133942046384e-05, 2.5807028513637898e-05, 2.5771027303023938e-05, 2.56943321251245e-05, 2.556719781479366e-05, 2.5477062697930757e-05, 2.538149751193014e-05, 2.533746962898623e-05, 2.526968812610058e-05, 2.514202228733402e-05, 2.5035154841416727e-05, 2.5016657227314725e-05, 2.485920522821438e-05, 2.4804547775031916e-05, 2.4793386414315494e-05, 2.4622155016576492e-05, 2.4411110545294517e-05, 2.43014150131646e-05, 2.423981732329499e-05, 2.415713991071656e-05, 2.412116894790862e-05, 2.3969940776640113e-05, 2.390961888223706e-05, 2.3840390419446435e-05, 2.3760712370635784e-05, 2.3636437816683273e-05, 2.3565243000681655e-05, 2.3425974402772428e-05, 2.3355043886748283e-05, 2.315916821707986e-05, 2.3122628557664816e-05, 2.3021109916212066e-05, 2.291860180130903e-05, 2.2883652467124472e-05, 2.281560851655919e-05, 2.2784952169887123e-05, 2.271054651549032e-05, 2.264037702487917e-05, 2.252593697278255e-05, 2.2451220919614307e-05, 2.2392047185720756e-05, 2.2204949085279906e-05, 2.212823543056391e-05, 2.2046011336029943e-05, 2.1998321779289414e-05, 2.1950076641035876e-05, 2.176458808117623e-05, 2.167798826963733e-05, 2.1648068769457712e-05, 2.1456954129307286e-05, 2.1433396827662675e-05, 2.1407748175368827e-05, 2.132081931129371e-05, 2.1265037498209115e-05, 2.1189826977749812e-05, 2.1087428088227837e-05, 2.1013756364586187e-05, 2.0924725873488227e-05, 2.0784567286576193e-05, 2.0680519289564256e-05, 2.060555683032342e-05, 2.0565586361166426e-05, 2.049163997317098e-05, 2.0374965162857827e-05, 2.0282431490631013e-05, 2.022173675885097e-05, 2.0007485192807382e-05, 1.99675035369801e-05, 1.9938786722830847e-05, 1.9922738866972542e-05, 1.9843587754188096e-05, 1.974621797726612e-05, 1.968380164652906e-05, 1.964224214059545e-05, 1.945650831973535e-05, 1.9429153096695372e-05, 1.9426616651187724e-05, 1.9266837137155167e-05, 1.9148872526745964e-05, 1.906872397816353e-05, 1.9036360394180118e-05, 1.898116215669054e-05, 1.891842570912094e-05, 1.883377535939808e-05, 1.8809195554118975e-05, 1.863146908591906e-05, 1.861406607195104e-05, 1.850080358400831e-05, 1.836268813946554e-05, 1.8340253942788107e-05, 1.822797373849543e-05, 1.8193918991194585e-05, 1.8090867111330717e-05, 1.8063765799508533e-05, 1.8037549997115146e-05, 1.7985563964775258e-05, 1.789282618049445e-05, 1.7764880689473965e-05, 1.7709711396958888e-05, 1.763052078726358e-05, 1.7567360998096673e-05, 1.7478255350631696e-05, 1.7437017377814414e-05, 1.7346087933507497e-05, 1.7281656889740708e-05, 1.7207367789144402e-05, 1.7138825806341794e-05, 1.703258143291976e-05, 1.699427443463419e-05, 1.694226320124419e-05, 1.683529213438529e-05, 1.6757721806749867e-05, 1.669676313282561e-05, 1.6607083486866348e-05, 1.6557065252119914e-05, 1.6522902912115157e-05, 1.635596790788227e-05, 1.632847738611083e-05, 1.6245503361479845e-05, 1.6223990518393524e-05, 1.6102786185049868e-05, 1.604326065507745e-05, 1.5904595785789612e-05, 1.584133921494402e-05, 1.5798324901666166e-05, 1.5687426985179358e-05, 1.5658400178926097e-05, 1.5608466594139167e-05, 1.5513987770198624e-05, 1.5421731137107197e-05, 1.540214969053859e-05, 1.5347172454549336e-05, 1.5304724574294713e-05, 1.5225037253268901e-05, 1.5174131467736837e-05, 1.5129089568072848e-05, 1.5066256038378922e-05, 1.5034969660824488e-05, 1.4892527605421885e-05, 1.4823674155390051e-05, 1.481080482137553e-05, 1.4671909441394194e-05, 1.466011159613279e-05, 1.457942602792233e-05, 1.4516810618816994e-05, 1.4466906421274654e-05, 1.4424625953537478e-05, 1.4400089366721898e-05, 1.4333570014952619e-05, 1.4191462067144436e-05, 1.4159120020697104e-05, 1.4104267922586912e-05, 1.406083066871881e-05, 1.3980031800030128e-05, 1.3952851014521649e-05, 1.3942003225545678e-05, 1.3861215133289472e-05, 1.3787706627863226e-05, 1.3698722383670138e-05, 1.3631652564711161e-05, 1.3580696383147155e-05, 1.3502875342972201e-05, 1.3409081001283629e-05, 1.3389049606582886e-05, 1.3317032498853287e-05, 1.3196923158371741e-05, 1.3174605462869244e-05, 1.3104836772133875e-05, 1.3093281757605035e-05, 1.3030727701298085e-05, 1.3005837684013648e-05, 1.2906685553420706e-05, 1.281844060000038e-05, 1.2749934180576988e-05, 1.264957532857322e-05, 1.2597030292119719e-05, 1.2496332110956463e-05, 1.2469714215956263e-05, 1.2421352000824339e-05, 1.2397015405895911e-05, 1.2304909560405498e-05, 1.228491807719201e-05, 1.221177187683758e-05, 1.2151090855441119e-05, 1.2046573745308134e-05, 1.2016572650340566e-05, 1.1943352117888663e-05, 1.1849180666428494e-05, 1.1753165107338286e-05, 1.1716939201451551e-05, 1.1669258074335903e-05, 1.162697091125464e-05, 1.1571649396248716e-05, 1.1524123391276622e-05, 1.1385719303944523e-05, 1.1270349695033768e-05, 1.1205225876238673e-05, 1.11526846216259e-05, 1.1124943724658953e-05, 1.1097644754704292e-05, 1.1058400380138694e-05, 1.0988561457502878e-05, 1.0883641020084563e-05, 1.0764622004612635e-05, 1.072998746329903e-05, 1.0678188217109528e-05, 1.0572224122240652e-05, 1.0516398858435106e-05, 1.0472019335898797e-05, 1.0405758010611627e-05, 1.035312897376369e-05, 1.0310471873225283e-05, 1.0268517875928677e-05, 1.0241109525019095e-05, 1.0042797411024784e-05, 1.0012556594077792e-05, 9.985987315291047e-06, 9.887707516605533e-06, 9.847861070767183e-06, 9.771934801817483e-06, 9.706066234048043e-06, 9.658008521798703e-06, 9.565833126673578e-06, 9.492189104103209e-06, 9.458982339483866e-06, 9.427452294349144e-06, 9.384722701916529e-06, 9.34066797685213e-06, 9.260660193378665e-06, 9.187047214258767e-06, 9.127945688588888e-06, 9.06124321716335e-06, 9.00542502801541e-06, 8.96484544173085e-06, 8.880679962137925e-06, 8.828395831205201e-06, 8.820343709322942e-06, 8.772288607518148e-06, 8.706517861603425e-06, 8.655882740550904e-06, 8.599583612669685e-06, 8.568425195944427e-06, 8.53496937181055e-06, 8.464096272138716e-06, 8.421506158712599e-06, 8.381970192251185e-06, 8.30040523446874e-06, 8.260452558974677e-06, 8.231602771519499e-06, 8.146602319287897e-06, 8.10400207121715e-06, 8.063696545846738e-06, 7.964526744735327e-06, 7.918564184417332e-06, 7.891674706884073e-06, 7.769335585948537e-06, 7.704109644958104e-06, 7.633712216306503e-06, 7.578197405888695e-06, 7.485956616954877e-06, 7.470517764643321e-06, 7.370860775297145e-06, 7.347556770182413e-06, 7.267640301526302e-06, 7.253258980103173e-06, 7.135493154754442e-06, 7.07237288821479e-06, 7.032620822104241e-06, 6.88022848119497e-06, 6.817515136026761e-06, 6.766814179627699e-06, 6.64653454747445e-06, 6.590196900690896e-06, 6.49069757364125e-06, 6.442796505633563e-06, 6.397143347929478e-06, 6.3633392187506324e-06, 6.270072805590355e-06, 6.136803589272942e-06, 6.086841649692193e-06, 6.064528306389513e-06, 6.06322471776412e-06, 5.975065369994906e-06, 5.855870176314302e-06, 5.8151654803291764e-06, 5.679510898352606e-06, 5.604037586185322e-06, 5.531017737168259e-06, 5.4847767846608475e-06, 5.425679185110084e-06, 5.342801882530338e-06, 5.2049519718347676e-06, 5.0379326072381085e-06, 4.940043549369183e-06, 4.898780253949846e-06, 4.699526115029073e-06, 4.473590487693853e-06, 4.1671019189176914e-06, 3.93919668820952e-06, 3.867295433363178e-06, 3.7794458551617674e-06, 3.476823459372713e-06, 3.436270057497358e-06, 3.2899152203662848e-06, 3.2009008924618735e-06, 2.9764830385085652e-06, 2.77958047665572e-06, 2.663196674057714e-06, 2.4941377968784103e-06, 2.335110710881974e-06, 2.1510828198018574e-06, 1.992695337045408e-06], \"yaxis\": \"y\"}],\n",
       "                        {\"barmode\": \"relative\", \"height\": 600, \"legend\": {\"tracegroupgap\": 0}, \"margin\": {\"t\": 60}, \"template\": {\"data\": {\"bar\": [{\"error_x\": {\"color\": \"#2a3f5f\"}, \"error_y\": {\"color\": \"#2a3f5f\"}, \"marker\": {\"line\": {\"color\": \"#E5ECF6\", \"width\": 0.5}}, \"type\": \"bar\"}], \"barpolar\": [{\"marker\": {\"line\": {\"color\": \"#E5ECF6\", \"width\": 0.5}}, \"type\": \"barpolar\"}], \"carpet\": [{\"aaxis\": {\"endlinecolor\": \"#2a3f5f\", \"gridcolor\": \"white\", \"linecolor\": \"white\", \"minorgridcolor\": \"white\", \"startlinecolor\": \"#2a3f5f\"}, \"baxis\": {\"endlinecolor\": \"#2a3f5f\", \"gridcolor\": \"white\", \"linecolor\": \"white\", \"minorgridcolor\": \"white\", \"startlinecolor\": \"#2a3f5f\"}, \"type\": \"carpet\"}], \"choropleth\": [{\"colorbar\": {\"outlinewidth\": 0, \"ticks\": \"\"}, \"type\": \"choropleth\"}], \"contour\": [{\"colorbar\": {\"outlinewidth\": 0, \"ticks\": \"\"}, \"colorscale\": [[0.0, \"#0d0887\"], [0.1111111111111111, \"#46039f\"], [0.2222222222222222, \"#7201a8\"], [0.3333333333333333, \"#9c179e\"], [0.4444444444444444, \"#bd3786\"], [0.5555555555555556, \"#d8576b\"], [0.6666666666666666, \"#ed7953\"], [0.7777777777777778, \"#fb9f3a\"], [0.8888888888888888, \"#fdca26\"], [1.0, \"#f0f921\"]], \"type\": \"contour\"}], \"contourcarpet\": [{\"colorbar\": {\"outlinewidth\": 0, \"ticks\": \"\"}, \"type\": \"contourcarpet\"}], \"heatmap\": [{\"colorbar\": {\"outlinewidth\": 0, \"ticks\": \"\"}, \"colorscale\": [[0.0, \"#0d0887\"], [0.1111111111111111, \"#46039f\"], [0.2222222222222222, \"#7201a8\"], [0.3333333333333333, \"#9c179e\"], [0.4444444444444444, \"#bd3786\"], [0.5555555555555556, \"#d8576b\"], [0.6666666666666666, \"#ed7953\"], [0.7777777777777778, \"#fb9f3a\"], [0.8888888888888888, \"#fdca26\"], [1.0, \"#f0f921\"]], \"type\": \"heatmap\"}], \"heatmapgl\": [{\"colorbar\": {\"outlinewidth\": 0, \"ticks\": \"\"}, \"colorscale\": [[0.0, \"#0d0887\"], [0.1111111111111111, \"#46039f\"], [0.2222222222222222, \"#7201a8\"], [0.3333333333333333, \"#9c179e\"], [0.4444444444444444, \"#bd3786\"], [0.5555555555555556, \"#d8576b\"], [0.6666666666666666, \"#ed7953\"], [0.7777777777777778, \"#fb9f3a\"], [0.8888888888888888, \"#fdca26\"], [1.0, \"#f0f921\"]], \"type\": \"heatmapgl\"}], \"histogram\": [{\"marker\": {\"colorbar\": {\"outlinewidth\": 0, \"ticks\": \"\"}}, \"type\": \"histogram\"}], \"histogram2d\": [{\"colorbar\": {\"outlinewidth\": 0, \"ticks\": \"\"}, \"colorscale\": [[0.0, \"#0d0887\"], [0.1111111111111111, \"#46039f\"], [0.2222222222222222, \"#7201a8\"], [0.3333333333333333, \"#9c179e\"], [0.4444444444444444, \"#bd3786\"], [0.5555555555555556, \"#d8576b\"], [0.6666666666666666, \"#ed7953\"], [0.7777777777777778, \"#fb9f3a\"], [0.8888888888888888, \"#fdca26\"], [1.0, \"#f0f921\"]], \"type\": \"histogram2d\"}], \"histogram2dcontour\": [{\"colorbar\": {\"outlinewidth\": 0, \"ticks\": \"\"}, \"colorscale\": [[0.0, \"#0d0887\"], [0.1111111111111111, \"#46039f\"], [0.2222222222222222, \"#7201a8\"], [0.3333333333333333, \"#9c179e\"], [0.4444444444444444, \"#bd3786\"], [0.5555555555555556, \"#d8576b\"], [0.6666666666666666, \"#ed7953\"], [0.7777777777777778, \"#fb9f3a\"], [0.8888888888888888, \"#fdca26\"], [1.0, \"#f0f921\"]], \"type\": \"histogram2dcontour\"}], \"mesh3d\": [{\"colorbar\": {\"outlinewidth\": 0, \"ticks\": \"\"}, \"type\": \"mesh3d\"}], \"parcoords\": [{\"line\": {\"colorbar\": {\"outlinewidth\": 0, \"ticks\": \"\"}}, \"type\": \"parcoords\"}], \"scatter\": [{\"marker\": {\"colorbar\": {\"outlinewidth\": 0, \"ticks\": \"\"}}, \"type\": \"scatter\"}], \"scatter3d\": [{\"line\": {\"colorbar\": {\"outlinewidth\": 0, \"ticks\": \"\"}}, \"marker\": {\"colorbar\": {\"outlinewidth\": 0, \"ticks\": \"\"}}, \"type\": \"scatter3d\"}], \"scattercarpet\": [{\"marker\": {\"colorbar\": {\"outlinewidth\": 0, \"ticks\": \"\"}}, \"type\": \"scattercarpet\"}], \"scattergeo\": [{\"marker\": {\"colorbar\": {\"outlinewidth\": 0, \"ticks\": \"\"}}, \"type\": \"scattergeo\"}], \"scattergl\": [{\"marker\": {\"colorbar\": {\"outlinewidth\": 0, \"ticks\": \"\"}}, \"type\": \"scattergl\"}], \"scattermapbox\": [{\"marker\": {\"colorbar\": {\"outlinewidth\": 0, \"ticks\": \"\"}}, \"type\": \"scattermapbox\"}], \"scatterpolar\": [{\"marker\": {\"colorbar\": {\"outlinewidth\": 0, \"ticks\": \"\"}}, \"type\": \"scatterpolar\"}], \"scatterpolargl\": [{\"marker\": {\"colorbar\": {\"outlinewidth\": 0, \"ticks\": \"\"}}, \"type\": \"scatterpolargl\"}], \"scatterternary\": [{\"marker\": {\"colorbar\": {\"outlinewidth\": 0, \"ticks\": \"\"}}, \"type\": \"scatterternary\"}], \"surface\": [{\"colorbar\": {\"outlinewidth\": 0, \"ticks\": \"\"}, \"colorscale\": [[0.0, \"#0d0887\"], [0.1111111111111111, \"#46039f\"], [0.2222222222222222, \"#7201a8\"], [0.3333333333333333, \"#9c179e\"], [0.4444444444444444, \"#bd3786\"], [0.5555555555555556, \"#d8576b\"], [0.6666666666666666, \"#ed7953\"], [0.7777777777777778, \"#fb9f3a\"], [0.8888888888888888, \"#fdca26\"], [1.0, \"#f0f921\"]], \"type\": \"surface\"}], \"table\": [{\"cells\": {\"fill\": {\"color\": \"#EBF0F8\"}, \"line\": {\"color\": \"white\"}}, \"header\": {\"fill\": {\"color\": \"#C8D4E3\"}, \"line\": {\"color\": \"white\"}}, \"type\": \"table\"}]}, \"layout\": {\"annotationdefaults\": {\"arrowcolor\": \"#2a3f5f\", \"arrowhead\": 0, \"arrowwidth\": 1}, \"colorscale\": {\"diverging\": [[0, \"#8e0152\"], [0.1, \"#c51b7d\"], [0.2, \"#de77ae\"], [0.3, \"#f1b6da\"], [0.4, \"#fde0ef\"], [0.5, \"#f7f7f7\"], [0.6, \"#e6f5d0\"], [0.7, \"#b8e186\"], [0.8, \"#7fbc41\"], [0.9, \"#4d9221\"], [1, \"#276419\"]], \"sequential\": [[0.0, \"#0d0887\"], [0.1111111111111111, \"#46039f\"], [0.2222222222222222, \"#7201a8\"], [0.3333333333333333, \"#9c179e\"], [0.4444444444444444, \"#bd3786\"], [0.5555555555555556, \"#d8576b\"], [0.6666666666666666, \"#ed7953\"], [0.7777777777777778, \"#fb9f3a\"], [0.8888888888888888, \"#fdca26\"], [1.0, \"#f0f921\"]], \"sequentialminus\": [[0.0, \"#0d0887\"], [0.1111111111111111, \"#46039f\"], [0.2222222222222222, \"#7201a8\"], [0.3333333333333333, \"#9c179e\"], [0.4444444444444444, \"#bd3786\"], [0.5555555555555556, \"#d8576b\"], [0.6666666666666666, \"#ed7953\"], [0.7777777777777778, \"#fb9f3a\"], [0.8888888888888888, \"#fdca26\"], [1.0, \"#f0f921\"]]}, \"colorway\": [\"#636efa\", \"#EF553B\", \"#00cc96\", \"#ab63fa\", \"#FFA15A\", \"#19d3f3\", \"#FF6692\", \"#B6E880\", \"#FF97FF\", \"#FECB52\"], \"font\": {\"color\": \"#2a3f5f\"}, \"geo\": {\"bgcolor\": \"white\", \"lakecolor\": \"white\", \"landcolor\": \"#E5ECF6\", \"showlakes\": true, \"showland\": true, \"subunitcolor\": \"white\"}, \"hoverlabel\": {\"align\": \"left\"}, \"hovermode\": \"closest\", \"mapbox\": {\"style\": \"light\"}, \"paper_bgcolor\": \"white\", \"plot_bgcolor\": \"#E5ECF6\", \"polar\": {\"angularaxis\": {\"gridcolor\": \"white\", \"linecolor\": \"white\", \"ticks\": \"\"}, \"bgcolor\": \"#E5ECF6\", \"radialaxis\": {\"gridcolor\": \"white\", \"linecolor\": \"white\", \"ticks\": \"\"}}, \"scene\": {\"xaxis\": {\"backgroundcolor\": \"#E5ECF6\", \"gridcolor\": \"white\", \"gridwidth\": 2, \"linecolor\": \"white\", \"showbackground\": true, \"ticks\": \"\", \"zerolinecolor\": \"white\"}, \"yaxis\": {\"backgroundcolor\": \"#E5ECF6\", \"gridcolor\": \"white\", \"gridwidth\": 2, \"linecolor\": \"white\", \"showbackground\": true, \"ticks\": \"\", \"zerolinecolor\": \"white\"}, \"zaxis\": {\"backgroundcolor\": \"#E5ECF6\", \"gridcolor\": \"white\", \"gridwidth\": 2, \"linecolor\": \"white\", \"showbackground\": true, \"ticks\": \"\", \"zerolinecolor\": \"white\"}}, \"shapedefaults\": {\"line\": {\"color\": \"#2a3f5f\"}}, \"ternary\": {\"aaxis\": {\"gridcolor\": \"white\", \"linecolor\": \"white\", \"ticks\": \"\"}, \"baxis\": {\"gridcolor\": \"white\", \"linecolor\": \"white\", \"ticks\": \"\"}, \"bgcolor\": \"#E5ECF6\", \"caxis\": {\"gridcolor\": \"white\", \"linecolor\": \"white\", \"ticks\": \"\"}}, \"title\": {\"x\": 0.05}, \"xaxis\": {\"automargin\": true, \"gridcolor\": \"white\", \"linecolor\": \"white\", \"ticks\": \"\", \"zerolinecolor\": \"white\", \"zerolinewidth\": 2}, \"yaxis\": {\"automargin\": true, \"gridcolor\": \"white\", \"linecolor\": \"white\", \"ticks\": \"\", \"zerolinecolor\": \"white\", \"zerolinewidth\": 2}}}, \"xaxis\": {\"anchor\": \"y\", \"domain\": [0.0, 0.98], \"title\": {\"text\": \"col variable\"}}, \"yaxis\": {\"anchor\": \"x\", \"domain\": [0.0, 1.0], \"title\": {\"text\": \"variance explained\"}}},\n",
       "                        {\"responsive\": true}\n",
       "                    ).then(function(){\n",
       "                            \n",
       "var gd = document.getElementById('ddc12fb4-62de-4958-bff5-04de5769b78c');\n",
       "var x = new MutationObserver(function (mutations, observer) {{\n",
       "        var display = window.getComputedStyle(gd).display;\n",
       "        if (!display || display === 'none') {{\n",
       "            console.log([gd, 'removed!']);\n",
       "            Plotly.purge(gd);\n",
       "            observer.disconnect();\n",
       "        }}\n",
       "}});\n",
       "\n",
       "// Listen for the removal of the full notebook cells\n",
       "var notebookContainer = gd.closest('#notebook-container');\n",
       "if (notebookContainer) {{\n",
       "    x.observe(notebookContainer, {childList: true});\n",
       "}}\n",
       "\n",
       "// Listen for the clearing of the current output cell\n",
       "var outputEl = gd.closest('.output');\n",
       "if (outputEl) {{\n",
       "    x.observe(outputEl, {childList: true});\n",
       "}}\n",
       "\n",
       "                        })\n",
       "                };\n",
       "                });\n",
       "            </script>\n",
       "        </div>"
      ]
     },
     "metadata": {},
     "output_type": "display_data"
    }
   ],
   "source": [
    "import numpy as np\n",
    "from sklearn.decomposition import PCA\n",
    "from sklearn.preprocessing import StandardScaler\n",
    "\n",
    "def pcaTransform(input, retain):\n",
    "    \"\"\"\n",
    "    Args:\n",
    "        input (DataFrame): input points to be PCA transformed\n",
    "            columns are dimensions to be reduced\n",
    "        retain (int): number of dimensions to reduce to\n",
    "    Returns:\n",
    "        DataFrame of PCA transformed points\n",
    "    \"\"\"\n",
    "    # store columns of input data frame\n",
    "    cols = [i for i in input.columns]\n",
    "    # Z score normalize so no one feature stands out over the others\n",
    "    input = StandardScaler().fit_transform(input)\n",
    "    input = pandas.DataFrame(input, columns = cols)\n",
    "    # create pca object to analyze n dimensions (number of columns)\n",
    "    pca = PCA(n_components=len(input.columns))\n",
    "    \n",
    "    # feed input in to be analyzed\n",
    "    pca.fit(input)\n",
    "    \n",
    "    # transform points according to PCA to minimize variances\n",
    "    points = pca.transform(input)\n",
    "    # add back column labels to points\n",
    "    points = pandas.DataFrame(points, columns=cols)\n",
    "    \n",
    "    # proportion of variance explained by each dimension\n",
    "    var = pca.explained_variance_ / sum(pca.explained_variance_)\n",
    "    # make sure matrix is horizontal 1x3\n",
    "    var = pandas.DataFrame(var)\n",
    "    # label this column variance explained\n",
    "    var.columns = ['variance explained']\n",
    "    # add column labels on top of 1x3 matrix\n",
    "    var.insert(1, 'col variable', cols)\n",
    "\n",
    "    # reduce dimension to number specified by retain\n",
    "    pcaReduce = PCA(n_components=retain)\n",
    "    points = pandas.DataFrame(pcaReduce.fit_transform(points))\n",
    "    \n",
    "    # tidy table has all graph variables as columns, rows are just IDs\n",
    "    fig = px.bar(var, x='col variable', y='variance explained')\n",
    "    fig.show()\n",
    "\n",
    "    return points\n",
    "\n",
    "retain = 50\n",
    "points = pcaTransform(df, retain)\n"
   ]
  },
  {
   "cell_type": "code",
   "execution_count": 221,
   "metadata": {},
   "outputs": [],
   "source": [
    "points = points.transpose()"
   ]
  },
  {
   "cell_type": "code",
   "execution_count": 223,
   "metadata": {},
   "outputs": [
    {
     "ename": "ValueError",
     "evalue": "n_components=200 must be between 0 and min(n_samples, n_features)=50 with svd_solver='full'",
     "output_type": "error",
     "traceback": [
      "\u001b[1;31m---------------------------------------------------------------------------\u001b[0m",
      "\u001b[1;31mValueError\u001b[0m                                Traceback (most recent call last)",
      "\u001b[1;32m<ipython-input-223-d4a0f388c1af>\u001b[0m in \u001b[0;36m<module>\u001b[1;34m\u001b[0m\n\u001b[1;32m----> 1\u001b[1;33m \u001b[0mpcaTransform\u001b[0m\u001b[1;33m(\u001b[0m\u001b[0mpoints\u001b[0m\u001b[1;33m,\u001b[0m \u001b[1;36m200\u001b[0m\u001b[1;33m)\u001b[0m\u001b[1;33m\u001b[0m\u001b[1;33m\u001b[0m\u001b[0m\n\u001b[0m",
      "\u001b[1;32m<ipython-input-214-c22b96cf83c8>\u001b[0m in \u001b[0;36mpcaTransform\u001b[1;34m(input, retain)\u001b[0m\n\u001b[0;32m     39\u001b[0m     \u001b[1;31m# reduce dimension to number specified by retain\u001b[0m\u001b[1;33m\u001b[0m\u001b[1;33m\u001b[0m\u001b[1;33m\u001b[0m\u001b[0m\n\u001b[0;32m     40\u001b[0m     \u001b[0mpcaReduce\u001b[0m \u001b[1;33m=\u001b[0m \u001b[0mPCA\u001b[0m\u001b[1;33m(\u001b[0m\u001b[0mn_components\u001b[0m\u001b[1;33m=\u001b[0m\u001b[0mretain\u001b[0m\u001b[1;33m)\u001b[0m\u001b[1;33m\u001b[0m\u001b[1;33m\u001b[0m\u001b[0m\n\u001b[1;32m---> 41\u001b[1;33m     \u001b[0mpoints\u001b[0m \u001b[1;33m=\u001b[0m \u001b[0mpandas\u001b[0m\u001b[1;33m.\u001b[0m\u001b[0mDataFrame\u001b[0m\u001b[1;33m(\u001b[0m\u001b[0mpcaReduce\u001b[0m\u001b[1;33m.\u001b[0m\u001b[0mfit_transform\u001b[0m\u001b[1;33m(\u001b[0m\u001b[0mpoints\u001b[0m\u001b[1;33m)\u001b[0m\u001b[1;33m)\u001b[0m\u001b[1;33m\u001b[0m\u001b[1;33m\u001b[0m\u001b[0m\n\u001b[0m\u001b[0;32m     42\u001b[0m \u001b[1;33m\u001b[0m\u001b[0m\n\u001b[0;32m     43\u001b[0m     \u001b[1;31m# tidy table has all graph variables as columns, rows are just IDs\u001b[0m\u001b[1;33m\u001b[0m\u001b[1;33m\u001b[0m\u001b[1;33m\u001b[0m\u001b[0m\n",
      "\u001b[1;32m~\\Anaconda3\\envs\\stemcellhack\\lib\\site-packages\\sklearn\\decomposition\\pca.py\u001b[0m in \u001b[0;36mfit_transform\u001b[1;34m(self, X, y)\u001b[0m\n\u001b[0;32m    358\u001b[0m \u001b[1;33m\u001b[0m\u001b[0m\n\u001b[0;32m    359\u001b[0m         \"\"\"\n\u001b[1;32m--> 360\u001b[1;33m         \u001b[0mU\u001b[0m\u001b[1;33m,\u001b[0m \u001b[0mS\u001b[0m\u001b[1;33m,\u001b[0m \u001b[0mV\u001b[0m \u001b[1;33m=\u001b[0m \u001b[0mself\u001b[0m\u001b[1;33m.\u001b[0m\u001b[0m_fit\u001b[0m\u001b[1;33m(\u001b[0m\u001b[0mX\u001b[0m\u001b[1;33m)\u001b[0m\u001b[1;33m\u001b[0m\u001b[1;33m\u001b[0m\u001b[0m\n\u001b[0m\u001b[0;32m    361\u001b[0m         \u001b[0mU\u001b[0m \u001b[1;33m=\u001b[0m \u001b[0mU\u001b[0m\u001b[1;33m[\u001b[0m\u001b[1;33m:\u001b[0m\u001b[1;33m,\u001b[0m \u001b[1;33m:\u001b[0m\u001b[0mself\u001b[0m\u001b[1;33m.\u001b[0m\u001b[0mn_components_\u001b[0m\u001b[1;33m]\u001b[0m\u001b[1;33m\u001b[0m\u001b[1;33m\u001b[0m\u001b[0m\n\u001b[0;32m    362\u001b[0m \u001b[1;33m\u001b[0m\u001b[0m\n",
      "\u001b[1;32m~\\Anaconda3\\envs\\stemcellhack\\lib\\site-packages\\sklearn\\decomposition\\pca.py\u001b[0m in \u001b[0;36m_fit\u001b[1;34m(self, X)\u001b[0m\n\u001b[0;32m    405\u001b[0m         \u001b[1;31m# Call different fits for either full or truncated SVD\u001b[0m\u001b[1;33m\u001b[0m\u001b[1;33m\u001b[0m\u001b[1;33m\u001b[0m\u001b[0m\n\u001b[0;32m    406\u001b[0m         \u001b[1;32mif\u001b[0m \u001b[0mself\u001b[0m\u001b[1;33m.\u001b[0m\u001b[0m_fit_svd_solver\u001b[0m \u001b[1;33m==\u001b[0m \u001b[1;34m'full'\u001b[0m\u001b[1;33m:\u001b[0m\u001b[1;33m\u001b[0m\u001b[1;33m\u001b[0m\u001b[0m\n\u001b[1;32m--> 407\u001b[1;33m             \u001b[1;32mreturn\u001b[0m \u001b[0mself\u001b[0m\u001b[1;33m.\u001b[0m\u001b[0m_fit_full\u001b[0m\u001b[1;33m(\u001b[0m\u001b[0mX\u001b[0m\u001b[1;33m,\u001b[0m \u001b[0mn_components\u001b[0m\u001b[1;33m)\u001b[0m\u001b[1;33m\u001b[0m\u001b[1;33m\u001b[0m\u001b[0m\n\u001b[0m\u001b[0;32m    408\u001b[0m         \u001b[1;32melif\u001b[0m \u001b[0mself\u001b[0m\u001b[1;33m.\u001b[0m\u001b[0m_fit_svd_solver\u001b[0m \u001b[1;32min\u001b[0m \u001b[1;33m[\u001b[0m\u001b[1;34m'arpack'\u001b[0m\u001b[1;33m,\u001b[0m \u001b[1;34m'randomized'\u001b[0m\u001b[1;33m]\u001b[0m\u001b[1;33m:\u001b[0m\u001b[1;33m\u001b[0m\u001b[1;33m\u001b[0m\u001b[0m\n\u001b[0;32m    409\u001b[0m             \u001b[1;32mreturn\u001b[0m \u001b[0mself\u001b[0m\u001b[1;33m.\u001b[0m\u001b[0m_fit_truncated\u001b[0m\u001b[1;33m(\u001b[0m\u001b[0mX\u001b[0m\u001b[1;33m,\u001b[0m \u001b[0mn_components\u001b[0m\u001b[1;33m,\u001b[0m \u001b[0mself\u001b[0m\u001b[1;33m.\u001b[0m\u001b[0m_fit_svd_solver\u001b[0m\u001b[1;33m)\u001b[0m\u001b[1;33m\u001b[0m\u001b[1;33m\u001b[0m\u001b[0m\n",
      "\u001b[1;32m~\\Anaconda3\\envs\\stemcellhack\\lib\\site-packages\\sklearn\\decomposition\\pca.py\u001b[0m in \u001b[0;36m_fit_full\u001b[1;34m(self, X, n_components)\u001b[0m\n\u001b[0;32m    424\u001b[0m                              \u001b[1;34m\"min(n_samples, n_features)=%r with \"\u001b[0m\u001b[1;33m\u001b[0m\u001b[1;33m\u001b[0m\u001b[0m\n\u001b[0;32m    425\u001b[0m                              \u001b[1;34m\"svd_solver='full'\"\u001b[0m\u001b[1;33m\u001b[0m\u001b[1;33m\u001b[0m\u001b[0m\n\u001b[1;32m--> 426\u001b[1;33m                              % (n_components, min(n_samples, n_features)))\n\u001b[0m\u001b[0;32m    427\u001b[0m         \u001b[1;32melif\u001b[0m \u001b[0mn_components\u001b[0m \u001b[1;33m>=\u001b[0m \u001b[1;36m1\u001b[0m\u001b[1;33m:\u001b[0m\u001b[1;33m\u001b[0m\u001b[1;33m\u001b[0m\u001b[0m\n\u001b[0;32m    428\u001b[0m             \u001b[1;32mif\u001b[0m \u001b[1;32mnot\u001b[0m \u001b[0misinstance\u001b[0m\u001b[1;33m(\u001b[0m\u001b[0mn_components\u001b[0m\u001b[1;33m,\u001b[0m \u001b[1;33m(\u001b[0m\u001b[0mnumbers\u001b[0m\u001b[1;33m.\u001b[0m\u001b[0mIntegral\u001b[0m\u001b[1;33m,\u001b[0m \u001b[0mnp\u001b[0m\u001b[1;33m.\u001b[0m\u001b[0minteger\u001b[0m\u001b[1;33m)\u001b[0m\u001b[1;33m)\u001b[0m\u001b[1;33m:\u001b[0m\u001b[1;33m\u001b[0m\u001b[1;33m\u001b[0m\u001b[0m\n",
      "\u001b[1;31mValueError\u001b[0m: n_components=200 must be between 0 and min(n_samples, n_features)=50 with svd_solver='full'"
     ]
    }
   ],
   "source": [
    "pcaTransform(points, 200)"
   ]
  },
  {
   "cell_type": "code",
   "execution_count": null,
   "metadata": {},
   "outputs": [],
   "source": []
  }
 ],
 "metadata": {
  "kernelspec": {
   "display_name": "Python 3",
   "language": "python",
   "name": "python3"
  },
  "language_info": {
   "codemirror_mode": {
    "name": "ipython",
    "version": 3
   },
   "file_extension": ".py",
   "mimetype": "text/x-python",
   "name": "python",
   "nbconvert_exporter": "python",
   "pygments_lexer": "ipython3",
   "version": "3.7.4"
  }
 },
 "nbformat": 4,
 "nbformat_minor": 2
}
